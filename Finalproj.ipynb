{
 "cells": [
  {
   "cell_type": "markdown",
   "id": "2a04a4bb",
   "metadata": {},
   "source": [
    "   # Đồ án cuối kì LTKHDL \n",
    "   \n",
    "   \n",
    "\n",
    "|MSSV|Họ và tên|Github|\n",
    "|-----|-----------|----------|\n",
    "|1712778|Thống A Thảo|ThaoThong21|\n",
    "|19120586|Nguyễn Phát Minh|InventN|"
   ]
  },
  {
   "cell_type": "markdown",
   "id": "76bd4934",
   "metadata": {},
   "source": [
    "---"
   ]
  },
  {
   "cell_type": "markdown",
   "id": "53e5120a",
   "metadata": {},
   "source": [
    "## Link github"
   ]
  },
  {
   "cell_type": "markdown",
   "id": "186a723d",
   "metadata": {},
   "source": [
    "https://github.com/ThaoThong21/P4DS-CQ19-FinalProject"
   ]
  },
  {
   "cell_type": "markdown",
   "id": "54e6c7b8",
   "metadata": {},
   "source": [
    "---"
   ]
  },
  {
   "cell_type": "markdown",
   "id": "0a85ab08",
   "metadata": {
    "heading_collapsed": true
   },
   "source": [
    "## Import thư viện"
   ]
  },
  {
   "cell_type": "code",
   "execution_count": 1,
   "id": "42b7a2ff",
   "metadata": {
    "hidden": true
   },
   "outputs": [],
   "source": [
    "import pandas as pd\n",
    "import numpy as np\n",
    "import matplotlib.pyplot as plt\n",
    "from matplotlib.pyplot import figure\n",
    "# plt.style.use('dark_background')"
   ]
  },
  {
   "cell_type": "markdown",
   "id": "8b49e667",
   "metadata": {},
   "source": [
    "## I. Thu thập dữ liệu\n",
    "Dữ liệu về các ứng dụng của __googleplay store__ trên __kaggle__ [link](https://www.kaggle.com/lava18/google-play-store-apps?select=googleplaystore.csv) theo mô tả\n",
    "\n",
    ">Web scraped data of 10k Play Store apps for analysing the Android market.\n",
    ">\n",
    ">Each app (row) has values for catergory, rating, size, and more.\n",
    ">\n",
    ">The Play Store apps data has enormous potential to drive app-making businesses to success Actionable insights can be drawn for developers to work on and capture the Android market!.\n",
    "\n",
    "__Author__ :\n",
    "Lavanya\n",
    "Kaggle Contributor\n",
    "\n",
    "Gurugram, Haryana\n",
    "\n",
    "CS Grad (Language Technologies)\n",
    "\n",
    "__License__ : \n",
    ">This work is licensed under the Creative Commons Attribution 3.0 Unported License. To view a copy of this license, visit http://creativecommons.org/licenses/by/3.0/.\n",
    "\n",
    "__Cách lấy dữ liệu__ :\n",
    ">While many public datasets (on Kaggle and the like) provide Apple App Store data, there are not many counterpart datasets available for Google Play Store apps anywhere on the web. On digging deeper, I found out that iTunes App Store page deploys a nicely indexed appendix-like structure to allow for simple and easy web scraping. On the other hand, Google Play Store uses sophisticated modern-day techniques (like dynamic page load) using JQuery making scraping more challenging.\n",
    "\n",
    "Ở đây chúng em làm chủ yếu theo file \"googleplaystore.csv\". \n",
    "__Dữ liệu này đã được thu thâp cách đó 3 năm là vào khoảng năm 2019.__\n"
   ]
  },
  {
   "cell_type": "code",
   "execution_count": 2,
   "id": "03bf6473",
   "metadata": {},
   "outputs": [
    {
     "data": {
      "text/html": [
       "<div>\n",
       "<style scoped>\n",
       "    .dataframe tbody tr th:only-of-type {\n",
       "        vertical-align: middle;\n",
       "    }\n",
       "\n",
       "    .dataframe tbody tr th {\n",
       "        vertical-align: top;\n",
       "    }\n",
       "\n",
       "    .dataframe thead th {\n",
       "        text-align: right;\n",
       "    }\n",
       "</style>\n",
       "<table border=\"1\" class=\"dataframe\">\n",
       "  <thead>\n",
       "    <tr style=\"text-align: right;\">\n",
       "      <th></th>\n",
       "      <th>App</th>\n",
       "      <th>Category</th>\n",
       "      <th>Rating</th>\n",
       "      <th>Reviews</th>\n",
       "      <th>Size</th>\n",
       "      <th>Installs</th>\n",
       "      <th>Type</th>\n",
       "      <th>Price</th>\n",
       "      <th>Content Rating</th>\n",
       "      <th>Genres</th>\n",
       "      <th>Last Updated</th>\n",
       "      <th>Current Ver</th>\n",
       "      <th>Android Ver</th>\n",
       "    </tr>\n",
       "  </thead>\n",
       "  <tbody>\n",
       "    <tr>\n",
       "      <th>0</th>\n",
       "      <td>Photo Editor &amp; Candy Camera &amp; Grid &amp; ScrapBook</td>\n",
       "      <td>ART_AND_DESIGN</td>\n",
       "      <td>4.1</td>\n",
       "      <td>159</td>\n",
       "      <td>19M</td>\n",
       "      <td>10,000+</td>\n",
       "      <td>Free</td>\n",
       "      <td>0</td>\n",
       "      <td>Everyone</td>\n",
       "      <td>Art &amp; Design</td>\n",
       "      <td>January 7, 2018</td>\n",
       "      <td>1.0.0</td>\n",
       "      <td>4.0.3 and up</td>\n",
       "    </tr>\n",
       "    <tr>\n",
       "      <th>1</th>\n",
       "      <td>Coloring book moana</td>\n",
       "      <td>ART_AND_DESIGN</td>\n",
       "      <td>3.9</td>\n",
       "      <td>967</td>\n",
       "      <td>14M</td>\n",
       "      <td>500,000+</td>\n",
       "      <td>Free</td>\n",
       "      <td>0</td>\n",
       "      <td>Everyone</td>\n",
       "      <td>Art &amp; Design;Pretend Play</td>\n",
       "      <td>January 15, 2018</td>\n",
       "      <td>2.0.0</td>\n",
       "      <td>4.0.3 and up</td>\n",
       "    </tr>\n",
       "    <tr>\n",
       "      <th>2</th>\n",
       "      <td>U Launcher Lite – FREE Live Cool Themes, Hide ...</td>\n",
       "      <td>ART_AND_DESIGN</td>\n",
       "      <td>4.7</td>\n",
       "      <td>87510</td>\n",
       "      <td>8.7M</td>\n",
       "      <td>5,000,000+</td>\n",
       "      <td>Free</td>\n",
       "      <td>0</td>\n",
       "      <td>Everyone</td>\n",
       "      <td>Art &amp; Design</td>\n",
       "      <td>August 1, 2018</td>\n",
       "      <td>1.2.4</td>\n",
       "      <td>4.0.3 and up</td>\n",
       "    </tr>\n",
       "    <tr>\n",
       "      <th>3</th>\n",
       "      <td>Sketch - Draw &amp; Paint</td>\n",
       "      <td>ART_AND_DESIGN</td>\n",
       "      <td>4.5</td>\n",
       "      <td>215644</td>\n",
       "      <td>25M</td>\n",
       "      <td>50,000,000+</td>\n",
       "      <td>Free</td>\n",
       "      <td>0</td>\n",
       "      <td>Teen</td>\n",
       "      <td>Art &amp; Design</td>\n",
       "      <td>June 8, 2018</td>\n",
       "      <td>Varies with device</td>\n",
       "      <td>4.2 and up</td>\n",
       "    </tr>\n",
       "    <tr>\n",
       "      <th>4</th>\n",
       "      <td>Pixel Draw - Number Art Coloring Book</td>\n",
       "      <td>ART_AND_DESIGN</td>\n",
       "      <td>4.3</td>\n",
       "      <td>967</td>\n",
       "      <td>2.8M</td>\n",
       "      <td>100,000+</td>\n",
       "      <td>Free</td>\n",
       "      <td>0</td>\n",
       "      <td>Everyone</td>\n",
       "      <td>Art &amp; Design;Creativity</td>\n",
       "      <td>June 20, 2018</td>\n",
       "      <td>1.1</td>\n",
       "      <td>4.4 and up</td>\n",
       "    </tr>\n",
       "  </tbody>\n",
       "</table>\n",
       "</div>"
      ],
      "text/plain": [
       "                                                 App        Category  Rating  \\\n",
       "0     Photo Editor & Candy Camera & Grid & ScrapBook  ART_AND_DESIGN     4.1   \n",
       "1                                Coloring book moana  ART_AND_DESIGN     3.9   \n",
       "2  U Launcher Lite – FREE Live Cool Themes, Hide ...  ART_AND_DESIGN     4.7   \n",
       "3                              Sketch - Draw & Paint  ART_AND_DESIGN     4.5   \n",
       "4              Pixel Draw - Number Art Coloring Book  ART_AND_DESIGN     4.3   \n",
       "\n",
       "  Reviews  Size     Installs  Type Price Content Rating  \\\n",
       "0     159   19M      10,000+  Free     0       Everyone   \n",
       "1     967   14M     500,000+  Free     0       Everyone   \n",
       "2   87510  8.7M   5,000,000+  Free     0       Everyone   \n",
       "3  215644   25M  50,000,000+  Free     0           Teen   \n",
       "4     967  2.8M     100,000+  Free     0       Everyone   \n",
       "\n",
       "                      Genres      Last Updated         Current Ver  \\\n",
       "0               Art & Design   January 7, 2018               1.0.0   \n",
       "1  Art & Design;Pretend Play  January 15, 2018               2.0.0   \n",
       "2               Art & Design    August 1, 2018               1.2.4   \n",
       "3               Art & Design      June 8, 2018  Varies with device   \n",
       "4    Art & Design;Creativity     June 20, 2018                 1.1   \n",
       "\n",
       "    Android Ver  \n",
       "0  4.0.3 and up  \n",
       "1  4.0.3 and up  \n",
       "2  4.0.3 and up  \n",
       "3    4.2 and up  \n",
       "4    4.4 and up  "
      ]
     },
     "execution_count": 2,
     "metadata": {},
     "output_type": "execute_result"
    }
   ],
   "source": [
    "googleplaystore_df = pd.read_csv('googleplaystore.csv')\n",
    "googleplaystore_df.head()"
   ]
  },
  {
   "cell_type": "markdown",
   "id": "3cf85ae0",
   "metadata": {},
   "source": [
    "## II. Khám phá dữ liệu"
   ]
  },
  {
   "cell_type": "markdown",
   "id": "cb57c34d",
   "metadata": {},
   "source": [
    "### 1. Dữ liệu có bao nhiêu dòng và bao nhiêu cột?"
   ]
  },
  {
   "cell_type": "code",
   "execution_count": 3,
   "id": "e858c115",
   "metadata": {},
   "outputs": [
    {
     "name": "stdout",
     "output_type": "stream",
     "text": [
      "Số dòng: 10841, số cột 13\n"
     ]
    }
   ],
   "source": [
    "num_rows = googleplaystore_df.shape[0]\n",
    "num_cols = googleplaystore_df.shape[1]\n",
    "print(f'Số dòng: {num_rows}, số cột {num_cols}')"
   ]
  },
  {
   "cell_type": "markdown",
   "id": "ba1d563c",
   "metadata": {},
   "source": [
    "### 2. Các dòng có ý nghĩa gì? Có vấn đề gì về các dòng có ý nghĩa khác nhau không?"
   ]
  },
  {
   "cell_type": "markdown",
   "id": "20314060",
   "metadata": {},
   "source": [
    "Theo quan sát mỗi dòng là thông tin về của ứng dụng thu thâp được. Có vẻ không có dòng nào có ý nghĩa khác."
   ]
  },
  {
   "cell_type": "markdown",
   "id": "12c320ba",
   "metadata": {},
   "source": [
    "### 3. Mỗi dòng có bị lặp không? "
   ]
  },
  {
   "cell_type": "markdown",
   "id": "54ddc2f5",
   "metadata": {},
   "source": [
    "Kiểm tra xem có dòng có trùng nhau không? Và số dòng trung nếu có."
   ]
  },
  {
   "cell_type": "code",
   "execution_count": 4,
   "id": "e7371c83",
   "metadata": {
    "scrolled": true
   },
   "outputs": [
    {
     "name": "stdout",
     "output_type": "stream",
     "text": [
      "Kết quả: True\n",
      "Số dòng trùng: 483\n"
     ]
    }
   ],
   "source": [
    "\n",
    "duplicated_rows=googleplaystore_df[googleplaystore_df.duplicated(keep='last')]\n",
    "if len(duplicated_rows) >0: have_duplicated_rows=True\n",
    "else: have_duplicated_rows=False\n",
    "print(f'Kết quả: {have_duplicated_rows}')\n",
    "if have_duplicated_rows:\n",
    "    print(f'Số dòng trùng: {duplicated_rows.shape[0]}')"
   ]
  },
  {
   "cell_type": "markdown",
   "id": "734012b7",
   "metadata": {},
   "source": [
    "Vậy bây giờ ta tiên hành loại bỏ các dòng trùng lặp nhau."
   ]
  },
  {
   "cell_type": "code",
   "execution_count": 5,
   "id": "426d2ea8",
   "metadata": {
    "scrolled": true
   },
   "outputs": [
    {
     "data": {
      "text/html": [
       "<div>\n",
       "<style scoped>\n",
       "    .dataframe tbody tr th:only-of-type {\n",
       "        vertical-align: middle;\n",
       "    }\n",
       "\n",
       "    .dataframe tbody tr th {\n",
       "        vertical-align: top;\n",
       "    }\n",
       "\n",
       "    .dataframe thead th {\n",
       "        text-align: right;\n",
       "    }\n",
       "</style>\n",
       "<table border=\"1\" class=\"dataframe\">\n",
       "  <thead>\n",
       "    <tr style=\"text-align: right;\">\n",
       "      <th></th>\n",
       "      <th>App</th>\n",
       "      <th>Category</th>\n",
       "      <th>Rating</th>\n",
       "      <th>Reviews</th>\n",
       "      <th>Size</th>\n",
       "      <th>Installs</th>\n",
       "      <th>Type</th>\n",
       "      <th>Price</th>\n",
       "      <th>Content Rating</th>\n",
       "      <th>Genres</th>\n",
       "      <th>Last Updated</th>\n",
       "      <th>Current Ver</th>\n",
       "      <th>Android Ver</th>\n",
       "    </tr>\n",
       "  </thead>\n",
       "  <tbody>\n",
       "    <tr>\n",
       "      <th>8884</th>\n",
       "      <td>\"i DT\" Fútbol. Todos Somos Técnicos.</td>\n",
       "      <td>SPORTS</td>\n",
       "      <td>NaN</td>\n",
       "      <td>27</td>\n",
       "      <td>3.6M</td>\n",
       "      <td>500+</td>\n",
       "      <td>Free</td>\n",
       "      <td>0</td>\n",
       "      <td>Everyone</td>\n",
       "      <td>Sports</td>\n",
       "      <td>October 7, 2017</td>\n",
       "      <td>0.22</td>\n",
       "      <td>4.1 and up</td>\n",
       "    </tr>\n",
       "    <tr>\n",
       "      <th>8532</th>\n",
       "      <td>+Download 4 Instagram Twitter</td>\n",
       "      <td>SOCIAL</td>\n",
       "      <td>4.5</td>\n",
       "      <td>40467</td>\n",
       "      <td>22M</td>\n",
       "      <td>1,000,000+</td>\n",
       "      <td>Free</td>\n",
       "      <td>0</td>\n",
       "      <td>Everyone</td>\n",
       "      <td>Social</td>\n",
       "      <td>August 2, 2018</td>\n",
       "      <td>5.03</td>\n",
       "      <td>4.1 and up</td>\n",
       "    </tr>\n",
       "    <tr>\n",
       "      <th>324</th>\n",
       "      <td>- Free Comics - Comic Apps</td>\n",
       "      <td>COMICS</td>\n",
       "      <td>3.5</td>\n",
       "      <td>115</td>\n",
       "      <td>9.1M</td>\n",
       "      <td>10,000+</td>\n",
       "      <td>Free</td>\n",
       "      <td>0</td>\n",
       "      <td>Mature 17+</td>\n",
       "      <td>Comics</td>\n",
       "      <td>July 13, 2018</td>\n",
       "      <td>5.0.12</td>\n",
       "      <td>5.0 and up</td>\n",
       "    </tr>\n",
       "    <tr>\n",
       "      <th>4541</th>\n",
       "      <td>.R</td>\n",
       "      <td>TOOLS</td>\n",
       "      <td>4.5</td>\n",
       "      <td>259</td>\n",
       "      <td>203k</td>\n",
       "      <td>10,000+</td>\n",
       "      <td>Free</td>\n",
       "      <td>0</td>\n",
       "      <td>Everyone</td>\n",
       "      <td>Tools</td>\n",
       "      <td>September 16, 2014</td>\n",
       "      <td>1.1.06</td>\n",
       "      <td>1.5 and up</td>\n",
       "    </tr>\n",
       "    <tr>\n",
       "      <th>4636</th>\n",
       "      <td>/u/app</td>\n",
       "      <td>COMMUNICATION</td>\n",
       "      <td>4.7</td>\n",
       "      <td>573</td>\n",
       "      <td>53M</td>\n",
       "      <td>10,000+</td>\n",
       "      <td>Free</td>\n",
       "      <td>0</td>\n",
       "      <td>Mature 17+</td>\n",
       "      <td>Communication</td>\n",
       "      <td>July 3, 2018</td>\n",
       "      <td>4.2.4</td>\n",
       "      <td>4.1 and up</td>\n",
       "    </tr>\n",
       "    <tr>\n",
       "      <th>5940</th>\n",
       "      <td>058.ba</td>\n",
       "      <td>NEWS_AND_MAGAZINES</td>\n",
       "      <td>4.4</td>\n",
       "      <td>27</td>\n",
       "      <td>14M</td>\n",
       "      <td>100+</td>\n",
       "      <td>Free</td>\n",
       "      <td>0</td>\n",
       "      <td>Everyone</td>\n",
       "      <td>News &amp; Magazines</td>\n",
       "      <td>July 6, 2018</td>\n",
       "      <td>1.0</td>\n",
       "      <td>4.2 and up</td>\n",
       "    </tr>\n",
       "    <tr>\n",
       "      <th>10252</th>\n",
       "      <td>1. FC Köln App</td>\n",
       "      <td>SPORTS</td>\n",
       "      <td>4.6</td>\n",
       "      <td>2019</td>\n",
       "      <td>41M</td>\n",
       "      <td>100,000+</td>\n",
       "      <td>Free</td>\n",
       "      <td>0</td>\n",
       "      <td>Everyone</td>\n",
       "      <td>Sports</td>\n",
       "      <td>July 20, 2018</td>\n",
       "      <td>1.13.0</td>\n",
       "      <td>4.4 and up</td>\n",
       "    </tr>\n",
       "  </tbody>\n",
       "</table>\n",
       "</div>"
      ],
      "text/plain": [
       "                                        App            Category  Rating  \\\n",
       "8884   \"i DT\" Fútbol. Todos Somos Técnicos.              SPORTS     NaN   \n",
       "8532          +Download 4 Instagram Twitter              SOCIAL     4.5   \n",
       "324              - Free Comics - Comic Apps              COMICS     3.5   \n",
       "4541                                     .R               TOOLS     4.5   \n",
       "4636                                 /u/app       COMMUNICATION     4.7   \n",
       "5940                                 058.ba  NEWS_AND_MAGAZINES     4.4   \n",
       "10252                        1. FC Köln App              SPORTS     4.6   \n",
       "\n",
       "      Reviews  Size    Installs  Type Price Content Rating            Genres  \\\n",
       "8884       27  3.6M        500+  Free     0       Everyone            Sports   \n",
       "8532    40467   22M  1,000,000+  Free     0       Everyone            Social   \n",
       "324       115  9.1M     10,000+  Free     0     Mature 17+            Comics   \n",
       "4541      259  203k     10,000+  Free     0       Everyone             Tools   \n",
       "4636      573   53M     10,000+  Free     0     Mature 17+     Communication   \n",
       "5940       27   14M        100+  Free     0       Everyone  News & Magazines   \n",
       "10252    2019   41M    100,000+  Free     0       Everyone            Sports   \n",
       "\n",
       "             Last Updated Current Ver Android Ver  \n",
       "8884      October 7, 2017        0.22  4.1 and up  \n",
       "8532       August 2, 2018        5.03  4.1 and up  \n",
       "324         July 13, 2018      5.0.12  5.0 and up  \n",
       "4541   September 16, 2014      1.1.06  1.5 and up  \n",
       "4636         July 3, 2018       4.2.4  4.1 and up  \n",
       "5940         July 6, 2018         1.0  4.2 and up  \n",
       "10252       July 20, 2018      1.13.0  4.4 and up  "
      ]
     },
     "execution_count": 5,
     "metadata": {},
     "output_type": "execute_result"
    }
   ],
   "source": [
    "googleplaystore_df=googleplaystore_df[googleplaystore_df.duplicated(keep='last')!=True].sort_values(['App'])\n",
    "googleplaystore_df.head(7)"
   ]
  },
  {
   "cell_type": "markdown",
   "id": "8c096b4b",
   "metadata": {},
   "source": [
    "- Theo tìm hiểu thì các tên app phải khác nhau do đó bây giờ tiến hành xem nó có bị trùng nhau và điều gì khiến nó có sự khác nhau"
   ]
  },
  {
   "cell_type": "code",
   "execution_count": 6,
   "id": "d4015a91",
   "metadata": {
    "scrolled": true
   },
   "outputs": [
    {
     "data": {
      "text/html": [
       "<div>\n",
       "<style scoped>\n",
       "    .dataframe tbody tr th:only-of-type {\n",
       "        vertical-align: middle;\n",
       "    }\n",
       "\n",
       "    .dataframe tbody tr th {\n",
       "        vertical-align: top;\n",
       "    }\n",
       "\n",
       "    .dataframe thead th {\n",
       "        text-align: right;\n",
       "    }\n",
       "</style>\n",
       "<table border=\"1\" class=\"dataframe\">\n",
       "  <thead>\n",
       "    <tr style=\"text-align: right;\">\n",
       "      <th></th>\n",
       "      <th>App</th>\n",
       "      <th>Category</th>\n",
       "      <th>Rating</th>\n",
       "      <th>Reviews</th>\n",
       "      <th>Size</th>\n",
       "      <th>Installs</th>\n",
       "      <th>Type</th>\n",
       "      <th>Price</th>\n",
       "      <th>Content Rating</th>\n",
       "      <th>Genres</th>\n",
       "      <th>Last Updated</th>\n",
       "      <th>Current Ver</th>\n",
       "      <th>Android Ver</th>\n",
       "    </tr>\n",
       "  </thead>\n",
       "  <tbody>\n",
       "    <tr>\n",
       "      <th>2367</th>\n",
       "      <td>mySugr: the blood sugar tracker made just for you</td>\n",
       "      <td>MEDICAL</td>\n",
       "      <td>4.6</td>\n",
       "      <td>21189</td>\n",
       "      <td>36M</td>\n",
       "      <td>1,000,000+</td>\n",
       "      <td>Free</td>\n",
       "      <td>0</td>\n",
       "      <td>Everyone</td>\n",
       "      <td>Medical</td>\n",
       "      <td>August 6, 2018</td>\n",
       "      <td>3.52.1</td>\n",
       "      <td>5.0 and up</td>\n",
       "    </tr>\n",
       "    <tr>\n",
       "      <th>2595</th>\n",
       "      <td>ooVoo Video Calls, Messaging &amp; Stories</td>\n",
       "      <td>SOCIAL</td>\n",
       "      <td>4.3</td>\n",
       "      <td>1157004</td>\n",
       "      <td>34M</td>\n",
       "      <td>50,000,000+</td>\n",
       "      <td>Free</td>\n",
       "      <td>0</td>\n",
       "      <td>Everyone</td>\n",
       "      <td>Social</td>\n",
       "      <td>October 16, 2017</td>\n",
       "      <td>4.2.1</td>\n",
       "      <td>4.3 and up</td>\n",
       "    </tr>\n",
       "    <tr>\n",
       "      <th>2618</th>\n",
       "      <td>ooVoo Video Calls, Messaging &amp; Stories</td>\n",
       "      <td>SOCIAL</td>\n",
       "      <td>4.3</td>\n",
       "      <td>1157003</td>\n",
       "      <td>34M</td>\n",
       "      <td>50,000,000+</td>\n",
       "      <td>Free</td>\n",
       "      <td>0</td>\n",
       "      <td>Everyone</td>\n",
       "      <td>Social</td>\n",
       "      <td>October 16, 2017</td>\n",
       "      <td>4.2.1</td>\n",
       "      <td>4.3 and up</td>\n",
       "    </tr>\n",
       "    <tr>\n",
       "      <th>10473</th>\n",
       "      <td>osmino Wi-Fi: free WiFi</td>\n",
       "      <td>TOOLS</td>\n",
       "      <td>4.2</td>\n",
       "      <td>134203</td>\n",
       "      <td>4.1M</td>\n",
       "      <td>10,000,000+</td>\n",
       "      <td>Free</td>\n",
       "      <td>0</td>\n",
       "      <td>Everyone</td>\n",
       "      <td>Tools</td>\n",
       "      <td>August 7, 2018</td>\n",
       "      <td>6.06.14</td>\n",
       "      <td>4.4 and up</td>\n",
       "    </tr>\n",
       "    <tr>\n",
       "      <th>3334</th>\n",
       "      <td>osmino Wi-Fi: free WiFi</td>\n",
       "      <td>TOOLS</td>\n",
       "      <td>4.2</td>\n",
       "      <td>134203</td>\n",
       "      <td>4.1M</td>\n",
       "      <td>10,000,000+</td>\n",
       "      <td>Free</td>\n",
       "      <td>0</td>\n",
       "      <td>Everyone</td>\n",
       "      <td>Tools</td>\n",
       "      <td>August 6, 2018</td>\n",
       "      <td>6.06.14</td>\n",
       "      <td>4.4 and up</td>\n",
       "    </tr>\n",
       "    <tr>\n",
       "      <th>5664</th>\n",
       "      <td>realestate.com.au - Buy, Rent &amp; Sell Property</td>\n",
       "      <td>HOUSE_AND_HOME</td>\n",
       "      <td>3.8</td>\n",
       "      <td>14657</td>\n",
       "      <td>Varies with device</td>\n",
       "      <td>1,000,000+</td>\n",
       "      <td>Free</td>\n",
       "      <td>0</td>\n",
       "      <td>Everyone</td>\n",
       "      <td>House &amp; Home</td>\n",
       "      <td>July 16, 2018</td>\n",
       "      <td>Varies with device</td>\n",
       "      <td>Varies with device</td>\n",
       "    </tr>\n",
       "    <tr>\n",
       "      <th>1468</th>\n",
       "      <td>realestate.com.au - Buy, Rent &amp; Sell Property</td>\n",
       "      <td>HOUSE_AND_HOME</td>\n",
       "      <td>3.8</td>\n",
       "      <td>14653</td>\n",
       "      <td>Varies with device</td>\n",
       "      <td>1,000,000+</td>\n",
       "      <td>Free</td>\n",
       "      <td>0</td>\n",
       "      <td>Everyone</td>\n",
       "      <td>House &amp; Home</td>\n",
       "      <td>July 16, 2018</td>\n",
       "      <td>Varies with device</td>\n",
       "      <td>Varies with device</td>\n",
       "    </tr>\n",
       "    <tr>\n",
       "      <th>4227</th>\n",
       "      <td>slither.io</td>\n",
       "      <td>GAME</td>\n",
       "      <td>4.4</td>\n",
       "      <td>5231553</td>\n",
       "      <td>Varies with device</td>\n",
       "      <td>100,000,000+</td>\n",
       "      <td>Free</td>\n",
       "      <td>0</td>\n",
       "      <td>Everyone</td>\n",
       "      <td>Action</td>\n",
       "      <td>November 14, 2017</td>\n",
       "      <td>Varies with device</td>\n",
       "      <td>2.3 and up</td>\n",
       "    </tr>\n",
       "    <tr>\n",
       "      <th>1921</th>\n",
       "      <td>slither.io</td>\n",
       "      <td>GAME</td>\n",
       "      <td>4.4</td>\n",
       "      <td>5235294</td>\n",
       "      <td>Varies with device</td>\n",
       "      <td>100,000,000+</td>\n",
       "      <td>Free</td>\n",
       "      <td>0</td>\n",
       "      <td>Everyone</td>\n",
       "      <td>Action</td>\n",
       "      <td>November 14, 2017</td>\n",
       "      <td>Varies with device</td>\n",
       "      <td>2.3 and up</td>\n",
       "    </tr>\n",
       "    <tr>\n",
       "      <th>1757</th>\n",
       "      <td>slither.io</td>\n",
       "      <td>GAME</td>\n",
       "      <td>4.4</td>\n",
       "      <td>5234810</td>\n",
       "      <td>Varies with device</td>\n",
       "      <td>100,000,000+</td>\n",
       "      <td>Free</td>\n",
       "      <td>0</td>\n",
       "      <td>Everyone</td>\n",
       "      <td>Action</td>\n",
       "      <td>November 14, 2017</td>\n",
       "      <td>Varies with device</td>\n",
       "      <td>2.3 and up</td>\n",
       "    </tr>\n",
       "    <tr>\n",
       "      <th>1659</th>\n",
       "      <td>slither.io</td>\n",
       "      <td>GAME</td>\n",
       "      <td>4.4</td>\n",
       "      <td>5234162</td>\n",
       "      <td>Varies with device</td>\n",
       "      <td>100,000,000+</td>\n",
       "      <td>Free</td>\n",
       "      <td>0</td>\n",
       "      <td>Everyone</td>\n",
       "      <td>Action</td>\n",
       "      <td>November 14, 2017</td>\n",
       "      <td>Varies with device</td>\n",
       "      <td>2.3 and up</td>\n",
       "    </tr>\n",
       "    <tr>\n",
       "      <th>1735</th>\n",
       "      <td>slither.io</td>\n",
       "      <td>GAME</td>\n",
       "      <td>4.4</td>\n",
       "      <td>5234825</td>\n",
       "      <td>Varies with device</td>\n",
       "      <td>100,000,000+</td>\n",
       "      <td>Free</td>\n",
       "      <td>0</td>\n",
       "      <td>Everyone</td>\n",
       "      <td>Action</td>\n",
       "      <td>November 14, 2017</td>\n",
       "      <td>Varies with device</td>\n",
       "      <td>2.3 and up</td>\n",
       "    </tr>\n",
       "    <tr>\n",
       "      <th>565</th>\n",
       "      <td>stranger chat - anonymous chat</td>\n",
       "      <td>DATING</td>\n",
       "      <td>3.5</td>\n",
       "      <td>13204</td>\n",
       "      <td>6.1M</td>\n",
       "      <td>1,000,000+</td>\n",
       "      <td>Free</td>\n",
       "      <td>0</td>\n",
       "      <td>Mature 17+</td>\n",
       "      <td>Dating</td>\n",
       "      <td>July 7, 2018</td>\n",
       "      <td>2.4.1</td>\n",
       "      <td>4.1 and up</td>\n",
       "    </tr>\n",
       "    <tr>\n",
       "      <th>499</th>\n",
       "      <td>stranger chat - anonymous chat</td>\n",
       "      <td>DATING</td>\n",
       "      <td>3.5</td>\n",
       "      <td>13202</td>\n",
       "      <td>6.1M</td>\n",
       "      <td>1,000,000+</td>\n",
       "      <td>Free</td>\n",
       "      <td>0</td>\n",
       "      <td>Mature 17+</td>\n",
       "      <td>Dating</td>\n",
       "      <td>July 7, 2018</td>\n",
       "      <td>2.4.1</td>\n",
       "      <td>4.1 and up</td>\n",
       "    </tr>\n",
       "    <tr>\n",
       "      <th>2637</th>\n",
       "      <td>textPlus: Free Text &amp; Calls</td>\n",
       "      <td>SOCIAL</td>\n",
       "      <td>4.1</td>\n",
       "      <td>382121</td>\n",
       "      <td>28M</td>\n",
       "      <td>10,000,000+</td>\n",
       "      <td>Free</td>\n",
       "      <td>0</td>\n",
       "      <td>Everyone</td>\n",
       "      <td>Social</td>\n",
       "      <td>July 26, 2018</td>\n",
       "      <td>7.3.1</td>\n",
       "      <td>4.1 and up</td>\n",
       "    </tr>\n",
       "    <tr>\n",
       "      <th>2590</th>\n",
       "      <td>textPlus: Free Text &amp; Calls</td>\n",
       "      <td>SOCIAL</td>\n",
       "      <td>4.1</td>\n",
       "      <td>382120</td>\n",
       "      <td>28M</td>\n",
       "      <td>10,000,000+</td>\n",
       "      <td>Free</td>\n",
       "      <td>0</td>\n",
       "      <td>Everyone</td>\n",
       "      <td>Social</td>\n",
       "      <td>July 26, 2018</td>\n",
       "      <td>7.3.1</td>\n",
       "      <td>4.1 and up</td>\n",
       "    </tr>\n",
       "    <tr>\n",
       "      <th>3014</th>\n",
       "      <td>theScore: Live Sports Scores, News, Stats &amp; Vi...</td>\n",
       "      <td>SPORTS</td>\n",
       "      <td>4.4</td>\n",
       "      <td>133825</td>\n",
       "      <td>34M</td>\n",
       "      <td>10,000,000+</td>\n",
       "      <td>Free</td>\n",
       "      <td>0</td>\n",
       "      <td>Everyone 10+</td>\n",
       "      <td>Sports</td>\n",
       "      <td>July 25, 2018</td>\n",
       "      <td>6.17.2</td>\n",
       "      <td>4.4 and up</td>\n",
       "    </tr>\n",
       "    <tr>\n",
       "      <th>3085</th>\n",
       "      <td>theScore: Live Sports Scores, News, Stats &amp; Vi...</td>\n",
       "      <td>SPORTS</td>\n",
       "      <td>4.4</td>\n",
       "      <td>133833</td>\n",
       "      <td>34M</td>\n",
       "      <td>10,000,000+</td>\n",
       "      <td>Free</td>\n",
       "      <td>0</td>\n",
       "      <td>Everyone 10+</td>\n",
       "      <td>Sports</td>\n",
       "      <td>July 25, 2018</td>\n",
       "      <td>6.17.2</td>\n",
       "      <td>4.4 and up</td>\n",
       "    </tr>\n",
       "    <tr>\n",
       "      <th>3652</th>\n",
       "      <td>wetter.com - Weather and Radar</td>\n",
       "      <td>WEATHER</td>\n",
       "      <td>4.2</td>\n",
       "      <td>189313</td>\n",
       "      <td>38M</td>\n",
       "      <td>10,000,000+</td>\n",
       "      <td>Free</td>\n",
       "      <td>0</td>\n",
       "      <td>Everyone</td>\n",
       "      <td>Weather</td>\n",
       "      <td>August 6, 2018</td>\n",
       "      <td>Varies with device</td>\n",
       "      <td>Varies with device</td>\n",
       "    </tr>\n",
       "    <tr>\n",
       "      <th>8291</th>\n",
       "      <td>wetter.com - Weather and Radar</td>\n",
       "      <td>WEATHER</td>\n",
       "      <td>4.2</td>\n",
       "      <td>189310</td>\n",
       "      <td>38M</td>\n",
       "      <td>10,000,000+</td>\n",
       "      <td>Free</td>\n",
       "      <td>0</td>\n",
       "      <td>Everyone</td>\n",
       "      <td>Weather</td>\n",
       "      <td>August 6, 2018</td>\n",
       "      <td>Varies with device</td>\n",
       "      <td>Varies with device</td>\n",
       "    </tr>\n",
       "  </tbody>\n",
       "</table>\n",
       "</div>"
      ],
      "text/plain": [
       "                                                     App        Category  \\\n",
       "2367   mySugr: the blood sugar tracker made just for you         MEDICAL   \n",
       "2595              ooVoo Video Calls, Messaging & Stories          SOCIAL   \n",
       "2618              ooVoo Video Calls, Messaging & Stories          SOCIAL   \n",
       "10473                            osmino Wi-Fi: free WiFi           TOOLS   \n",
       "3334                             osmino Wi-Fi: free WiFi           TOOLS   \n",
       "5664       realestate.com.au - Buy, Rent & Sell Property  HOUSE_AND_HOME   \n",
       "1468       realestate.com.au - Buy, Rent & Sell Property  HOUSE_AND_HOME   \n",
       "4227                                          slither.io            GAME   \n",
       "1921                                          slither.io            GAME   \n",
       "1757                                          slither.io            GAME   \n",
       "1659                                          slither.io            GAME   \n",
       "1735                                          slither.io            GAME   \n",
       "565                       stranger chat - anonymous chat          DATING   \n",
       "499                       stranger chat - anonymous chat          DATING   \n",
       "2637                         textPlus: Free Text & Calls          SOCIAL   \n",
       "2590                         textPlus: Free Text & Calls          SOCIAL   \n",
       "3014   theScore: Live Sports Scores, News, Stats & Vi...          SPORTS   \n",
       "3085   theScore: Live Sports Scores, News, Stats & Vi...          SPORTS   \n",
       "3652                      wetter.com - Weather and Radar         WEATHER   \n",
       "8291                      wetter.com - Weather and Radar         WEATHER   \n",
       "\n",
       "       Rating  Reviews                Size      Installs  Type Price  \\\n",
       "2367      4.6    21189                 36M    1,000,000+  Free     0   \n",
       "2595      4.3  1157004                 34M   50,000,000+  Free     0   \n",
       "2618      4.3  1157003                 34M   50,000,000+  Free     0   \n",
       "10473     4.2   134203                4.1M   10,000,000+  Free     0   \n",
       "3334      4.2   134203                4.1M   10,000,000+  Free     0   \n",
       "5664      3.8    14657  Varies with device    1,000,000+  Free     0   \n",
       "1468      3.8    14653  Varies with device    1,000,000+  Free     0   \n",
       "4227      4.4  5231553  Varies with device  100,000,000+  Free     0   \n",
       "1921      4.4  5235294  Varies with device  100,000,000+  Free     0   \n",
       "1757      4.4  5234810  Varies with device  100,000,000+  Free     0   \n",
       "1659      4.4  5234162  Varies with device  100,000,000+  Free     0   \n",
       "1735      4.4  5234825  Varies with device  100,000,000+  Free     0   \n",
       "565       3.5    13204                6.1M    1,000,000+  Free     0   \n",
       "499       3.5    13202                6.1M    1,000,000+  Free     0   \n",
       "2637      4.1   382121                 28M   10,000,000+  Free     0   \n",
       "2590      4.1   382120                 28M   10,000,000+  Free     0   \n",
       "3014      4.4   133825                 34M   10,000,000+  Free     0   \n",
       "3085      4.4   133833                 34M   10,000,000+  Free     0   \n",
       "3652      4.2   189313                 38M   10,000,000+  Free     0   \n",
       "8291      4.2   189310                 38M   10,000,000+  Free     0   \n",
       "\n",
       "      Content Rating        Genres       Last Updated         Current Ver  \\\n",
       "2367        Everyone       Medical     August 6, 2018              3.52.1   \n",
       "2595        Everyone        Social   October 16, 2017               4.2.1   \n",
       "2618        Everyone        Social   October 16, 2017               4.2.1   \n",
       "10473       Everyone         Tools     August 7, 2018             6.06.14   \n",
       "3334        Everyone         Tools     August 6, 2018             6.06.14   \n",
       "5664        Everyone  House & Home      July 16, 2018  Varies with device   \n",
       "1468        Everyone  House & Home      July 16, 2018  Varies with device   \n",
       "4227        Everyone        Action  November 14, 2017  Varies with device   \n",
       "1921        Everyone        Action  November 14, 2017  Varies with device   \n",
       "1757        Everyone        Action  November 14, 2017  Varies with device   \n",
       "1659        Everyone        Action  November 14, 2017  Varies with device   \n",
       "1735        Everyone        Action  November 14, 2017  Varies with device   \n",
       "565       Mature 17+        Dating       July 7, 2018               2.4.1   \n",
       "499       Mature 17+        Dating       July 7, 2018               2.4.1   \n",
       "2637        Everyone        Social      July 26, 2018               7.3.1   \n",
       "2590        Everyone        Social      July 26, 2018               7.3.1   \n",
       "3014    Everyone 10+        Sports      July 25, 2018              6.17.2   \n",
       "3085    Everyone 10+        Sports      July 25, 2018              6.17.2   \n",
       "3652        Everyone       Weather     August 6, 2018  Varies with device   \n",
       "8291        Everyone       Weather     August 6, 2018  Varies with device   \n",
       "\n",
       "              Android Ver  \n",
       "2367           5.0 and up  \n",
       "2595           4.3 and up  \n",
       "2618           4.3 and up  \n",
       "10473          4.4 and up  \n",
       "3334           4.4 and up  \n",
       "5664   Varies with device  \n",
       "1468   Varies with device  \n",
       "4227           2.3 and up  \n",
       "1921           2.3 and up  \n",
       "1757           2.3 and up  \n",
       "1659           2.3 and up  \n",
       "1735           2.3 and up  \n",
       "565            4.1 and up  \n",
       "499            4.1 and up  \n",
       "2637           4.1 and up  \n",
       "2590           4.1 and up  \n",
       "3014           4.4 and up  \n",
       "3085           4.4 and up  \n",
       "3652   Varies with device  \n",
       "8291   Varies with device  "
      ]
     },
     "execution_count": 6,
     "metadata": {},
     "output_type": "execute_result"
    }
   ],
   "source": [
    "googleplaystore_df[googleplaystore_df.duplicated('App',keep=False)].tail(20)"
   ]
  },
  {
   "cell_type": "markdown",
   "id": "d9a442cd",
   "metadata": {},
   "source": [
    "- Ta thấy rằng đa số các thông tin các app bị trùng chỉ có cột reviews là khác nhau. \n",
    "- Và đôi khi thuộc tính categorical sẽ khác. Nhưng theo quan sát thấy rằng nó không quan trọng. Cung theo mô tả là tên App và khác nhau. `Do đó ta loại bỏ các dòng có thuộc tính app trùng nhau và chỉ giữ lại dòng đầu tiên.` (Vì các reviews không có quá chênh lệch nhau cho lắm."
   ]
  },
  {
   "cell_type": "code",
   "execution_count": 7,
   "id": "104be7f8",
   "metadata": {
    "scrolled": true
   },
   "outputs": [
    {
     "data": {
      "text/html": [
       "<div>\n",
       "<style scoped>\n",
       "    .dataframe tbody tr th:only-of-type {\n",
       "        vertical-align: middle;\n",
       "    }\n",
       "\n",
       "    .dataframe tbody tr th {\n",
       "        vertical-align: top;\n",
       "    }\n",
       "\n",
       "    .dataframe thead th {\n",
       "        text-align: right;\n",
       "    }\n",
       "</style>\n",
       "<table border=\"1\" class=\"dataframe\">\n",
       "  <thead>\n",
       "    <tr style=\"text-align: right;\">\n",
       "      <th></th>\n",
       "      <th>App</th>\n",
       "      <th>Category</th>\n",
       "      <th>Rating</th>\n",
       "      <th>Reviews</th>\n",
       "      <th>Size</th>\n",
       "      <th>Installs</th>\n",
       "      <th>Type</th>\n",
       "      <th>Price</th>\n",
       "      <th>Content Rating</th>\n",
       "      <th>Genres</th>\n",
       "      <th>Last Updated</th>\n",
       "      <th>Current Ver</th>\n",
       "      <th>Android Ver</th>\n",
       "    </tr>\n",
       "  </thead>\n",
       "  <tbody>\n",
       "    <tr>\n",
       "      <th>8884</th>\n",
       "      <td>\"i DT\" Fútbol. Todos Somos Técnicos.</td>\n",
       "      <td>SPORTS</td>\n",
       "      <td>NaN</td>\n",
       "      <td>27</td>\n",
       "      <td>3.6M</td>\n",
       "      <td>500+</td>\n",
       "      <td>Free</td>\n",
       "      <td>0</td>\n",
       "      <td>Everyone</td>\n",
       "      <td>Sports</td>\n",
       "      <td>October 7, 2017</td>\n",
       "      <td>0.22</td>\n",
       "      <td>4.1 and up</td>\n",
       "    </tr>\n",
       "    <tr>\n",
       "      <th>8532</th>\n",
       "      <td>+Download 4 Instagram Twitter</td>\n",
       "      <td>SOCIAL</td>\n",
       "      <td>4.5</td>\n",
       "      <td>40467</td>\n",
       "      <td>22M</td>\n",
       "      <td>1,000,000+</td>\n",
       "      <td>Free</td>\n",
       "      <td>0</td>\n",
       "      <td>Everyone</td>\n",
       "      <td>Social</td>\n",
       "      <td>August 2, 2018</td>\n",
       "      <td>5.03</td>\n",
       "      <td>4.1 and up</td>\n",
       "    </tr>\n",
       "    <tr>\n",
       "      <th>324</th>\n",
       "      <td>- Free Comics - Comic Apps</td>\n",
       "      <td>COMICS</td>\n",
       "      <td>3.5</td>\n",
       "      <td>115</td>\n",
       "      <td>9.1M</td>\n",
       "      <td>10,000+</td>\n",
       "      <td>Free</td>\n",
       "      <td>0</td>\n",
       "      <td>Mature 17+</td>\n",
       "      <td>Comics</td>\n",
       "      <td>July 13, 2018</td>\n",
       "      <td>5.0.12</td>\n",
       "      <td>5.0 and up</td>\n",
       "    </tr>\n",
       "    <tr>\n",
       "      <th>4541</th>\n",
       "      <td>.R</td>\n",
       "      <td>TOOLS</td>\n",
       "      <td>4.5</td>\n",
       "      <td>259</td>\n",
       "      <td>203k</td>\n",
       "      <td>10,000+</td>\n",
       "      <td>Free</td>\n",
       "      <td>0</td>\n",
       "      <td>Everyone</td>\n",
       "      <td>Tools</td>\n",
       "      <td>September 16, 2014</td>\n",
       "      <td>1.1.06</td>\n",
       "      <td>1.5 and up</td>\n",
       "    </tr>\n",
       "    <tr>\n",
       "      <th>4636</th>\n",
       "      <td>/u/app</td>\n",
       "      <td>COMMUNICATION</td>\n",
       "      <td>4.7</td>\n",
       "      <td>573</td>\n",
       "      <td>53M</td>\n",
       "      <td>10,000+</td>\n",
       "      <td>Free</td>\n",
       "      <td>0</td>\n",
       "      <td>Mature 17+</td>\n",
       "      <td>Communication</td>\n",
       "      <td>July 3, 2018</td>\n",
       "      <td>4.2.4</td>\n",
       "      <td>4.1 and up</td>\n",
       "    </tr>\n",
       "    <tr>\n",
       "      <th>5940</th>\n",
       "      <td>058.ba</td>\n",
       "      <td>NEWS_AND_MAGAZINES</td>\n",
       "      <td>4.4</td>\n",
       "      <td>27</td>\n",
       "      <td>14M</td>\n",
       "      <td>100+</td>\n",
       "      <td>Free</td>\n",
       "      <td>0</td>\n",
       "      <td>Everyone</td>\n",
       "      <td>News &amp; Magazines</td>\n",
       "      <td>July 6, 2018</td>\n",
       "      <td>1.0</td>\n",
       "      <td>4.2 and up</td>\n",
       "    </tr>\n",
       "    <tr>\n",
       "      <th>10252</th>\n",
       "      <td>1. FC Köln App</td>\n",
       "      <td>SPORTS</td>\n",
       "      <td>4.6</td>\n",
       "      <td>2019</td>\n",
       "      <td>41M</td>\n",
       "      <td>100,000+</td>\n",
       "      <td>Free</td>\n",
       "      <td>0</td>\n",
       "      <td>Everyone</td>\n",
       "      <td>Sports</td>\n",
       "      <td>July 20, 2018</td>\n",
       "      <td>1.13.0</td>\n",
       "      <td>4.4 and up</td>\n",
       "    </tr>\n",
       "    <tr>\n",
       "      <th>1407</th>\n",
       "      <td>10 Best Foods for You</td>\n",
       "      <td>HEALTH_AND_FITNESS</td>\n",
       "      <td>4.0</td>\n",
       "      <td>2490</td>\n",
       "      <td>3.8M</td>\n",
       "      <td>500,000+</td>\n",
       "      <td>Free</td>\n",
       "      <td>0</td>\n",
       "      <td>Everyone 10+</td>\n",
       "      <td>Health &amp; Fitness</td>\n",
       "      <td>February 17, 2017</td>\n",
       "      <td>1.9</td>\n",
       "      <td>2.3.3 and up</td>\n",
       "    </tr>\n",
       "    <tr>\n",
       "      <th>8483</th>\n",
       "      <td>10 Minutes a Day Times Tables</td>\n",
       "      <td>FAMILY</td>\n",
       "      <td>4.1</td>\n",
       "      <td>681</td>\n",
       "      <td>48M</td>\n",
       "      <td>100,000+</td>\n",
       "      <td>Free</td>\n",
       "      <td>0</td>\n",
       "      <td>Everyone</td>\n",
       "      <td>Education</td>\n",
       "      <td>July 3, 2014</td>\n",
       "      <td>1.2</td>\n",
       "      <td>2.2 and up</td>\n",
       "    </tr>\n",
       "    <tr>\n",
       "      <th>7738</th>\n",
       "      <td>10 WPM Amateur ham radio CW Morse code trainer</td>\n",
       "      <td>COMMUNICATION</td>\n",
       "      <td>3.5</td>\n",
       "      <td>10</td>\n",
       "      <td>3.8M</td>\n",
       "      <td>100+</td>\n",
       "      <td>Paid</td>\n",
       "      <td>$1.49</td>\n",
       "      <td>Everyone</td>\n",
       "      <td>Communication</td>\n",
       "      <td>May 12, 2018</td>\n",
       "      <td>2.1.4</td>\n",
       "      <td>2.1 and up</td>\n",
       "    </tr>\n",
       "  </tbody>\n",
       "</table>\n",
       "</div>"
      ],
      "text/plain": [
       "                                                  App            Category  \\\n",
       "8884             \"i DT\" Fútbol. Todos Somos Técnicos.              SPORTS   \n",
       "8532                    +Download 4 Instagram Twitter              SOCIAL   \n",
       "324                        - Free Comics - Comic Apps              COMICS   \n",
       "4541                                               .R               TOOLS   \n",
       "4636                                           /u/app       COMMUNICATION   \n",
       "5940                                           058.ba  NEWS_AND_MAGAZINES   \n",
       "10252                                  1. FC Köln App              SPORTS   \n",
       "1407                            10 Best Foods for You  HEALTH_AND_FITNESS   \n",
       "8483                    10 Minutes a Day Times Tables              FAMILY   \n",
       "7738   10 WPM Amateur ham radio CW Morse code trainer       COMMUNICATION   \n",
       "\n",
       "       Rating Reviews  Size    Installs  Type  Price Content Rating  \\\n",
       "8884      NaN      27  3.6M        500+  Free      0       Everyone   \n",
       "8532      4.5   40467   22M  1,000,000+  Free      0       Everyone   \n",
       "324       3.5     115  9.1M     10,000+  Free      0     Mature 17+   \n",
       "4541      4.5     259  203k     10,000+  Free      0       Everyone   \n",
       "4636      4.7     573   53M     10,000+  Free      0     Mature 17+   \n",
       "5940      4.4      27   14M        100+  Free      0       Everyone   \n",
       "10252     4.6    2019   41M    100,000+  Free      0       Everyone   \n",
       "1407      4.0    2490  3.8M    500,000+  Free      0   Everyone 10+   \n",
       "8483      4.1     681   48M    100,000+  Free      0       Everyone   \n",
       "7738      3.5      10  3.8M        100+  Paid  $1.49       Everyone   \n",
       "\n",
       "                 Genres        Last Updated Current Ver   Android Ver  \n",
       "8884             Sports     October 7, 2017        0.22    4.1 and up  \n",
       "8532             Social      August 2, 2018        5.03    4.1 and up  \n",
       "324              Comics       July 13, 2018      5.0.12    5.0 and up  \n",
       "4541              Tools  September 16, 2014      1.1.06    1.5 and up  \n",
       "4636      Communication        July 3, 2018       4.2.4    4.1 and up  \n",
       "5940   News & Magazines        July 6, 2018         1.0    4.2 and up  \n",
       "10252            Sports       July 20, 2018      1.13.0    4.4 and up  \n",
       "1407   Health & Fitness   February 17, 2017         1.9  2.3.3 and up  \n",
       "8483          Education        July 3, 2014         1.2    2.2 and up  \n",
       "7738      Communication        May 12, 2018       2.1.4    2.1 and up  "
      ]
     },
     "execution_count": 7,
     "metadata": {},
     "output_type": "execute_result"
    }
   ],
   "source": [
    "googleplaystore_df=googleplaystore_df[googleplaystore_df.duplicated('App',keep='first')!=True]\n",
    "googleplaystore_df.head(10)"
   ]
  },
  {
   "cell_type": "code",
   "execution_count": 8,
   "id": "60d71eb3",
   "metadata": {},
   "outputs": [],
   "source": [
    "#test.reset_index().drop(columns='index')"
   ]
  },
  {
   "cell_type": "markdown",
   "id": "cdd39cd3",
   "metadata": {},
   "source": [
    "Cập nhật lại __num_rows__ và __num_cols__"
   ]
  },
  {
   "cell_type": "code",
   "execution_count": 9,
   "id": "5aecc527",
   "metadata": {},
   "outputs": [
    {
     "name": "stdout",
     "output_type": "stream",
     "text": [
      "9660 13\n"
     ]
    }
   ],
   "source": [
    "num_rows = googleplaystore_df.shape[0]\n",
    "num_cols = googleplaystore_df.shape[1]\n",
    "print(num_rows, num_cols)"
   ]
  },
  {
   "cell_type": "markdown",
   "id": "e6ff4637",
   "metadata": {
    "heading_collapsed": true
   },
   "source": [
    "### 4. Mỗi cột có ý nghĩa gì?"
   ]
  },
  {
   "cell_type": "code",
   "execution_count": 10,
   "id": "86fc67e4",
   "metadata": {
    "hidden": true
   },
   "outputs": [
    {
     "data": {
      "text/html": [
       "<div>\n",
       "<style scoped>\n",
       "    .dataframe tbody tr th:only-of-type {\n",
       "        vertical-align: middle;\n",
       "    }\n",
       "\n",
       "    .dataframe tbody tr th {\n",
       "        vertical-align: top;\n",
       "    }\n",
       "\n",
       "    .dataframe thead th {\n",
       "        text-align: right;\n",
       "    }\n",
       "</style>\n",
       "<table border=\"1\" class=\"dataframe\">\n",
       "  <thead>\n",
       "    <tr style=\"text-align: right;\">\n",
       "      <th></th>\n",
       "      <th>Meaning</th>\n",
       "    </tr>\n",
       "    <tr>\n",
       "      <th>Col</th>\n",
       "      <th></th>\n",
       "    </tr>\n",
       "  </thead>\n",
       "  <tbody>\n",
       "    <tr>\n",
       "      <th>App</th>\n",
       "      <td>Application name</td>\n",
       "    </tr>\n",
       "    <tr>\n",
       "      <th>Category</th>\n",
       "      <td>Category the app belongs to Family, Game�</td>\n",
       "    </tr>\n",
       "    <tr>\n",
       "      <th>Rating</th>\n",
       "      <td>Overall user rating of the app (as when scraped)</td>\n",
       "    </tr>\n",
       "    <tr>\n",
       "      <th>Reviews</th>\n",
       "      <td>Number of user reviews for the app (as when scraped)</td>\n",
       "    </tr>\n",
       "    <tr>\n",
       "      <th>Size</th>\n",
       "      <td>Size of the app (as when scraped)</td>\n",
       "    </tr>\n",
       "    <tr>\n",
       "      <th>Installs</th>\n",
       "      <td>Number of user downloads/installs for the app (as when scraped)</td>\n",
       "    </tr>\n",
       "    <tr>\n",
       "      <th>Type</th>\n",
       "      <td>Paid or Free</td>\n",
       "    </tr>\n",
       "    <tr>\n",
       "      <th>Price</th>\n",
       "      <td>Price of the app (as when scraped)</td>\n",
       "    </tr>\n",
       "    <tr>\n",
       "      <th>Content Rating</th>\n",
       "      <td>Age group the app is targeted at - Children / Mature 21+ / Adult</td>\n",
       "    </tr>\n",
       "    <tr>\n",
       "      <th>Genres</th>\n",
       "      <td>An app can belong to multiple genres (apart from its main category). For eg, a musical family game will belong to Music, Game, Family ..</td>\n",
       "    </tr>\n",
       "    <tr>\n",
       "      <th>Last Updated</th>\n",
       "      <td>Date when the app was last updated on Play Store (as when scraped)</td>\n",
       "    </tr>\n",
       "    <tr>\n",
       "      <th>Current Ver</th>\n",
       "      <td>Current version of the app available on Play Store (as when scraped)</td>\n",
       "    </tr>\n",
       "    <tr>\n",
       "      <th>Android Ver</th>\n",
       "      <td>Min required Android version (as when scraped)</td>\n",
       "    </tr>\n",
       "  </tbody>\n",
       "</table>\n",
       "</div>"
      ],
      "text/plain": [
       "                                                                                                                                                 Meaning\n",
       "Col                                                                                                                                                     \n",
       "App                                                                                                                                     Application name\n",
       "Category                                                                                                       Category the app belongs to Family, Game�\n",
       "Rating                                                                                                  Overall user rating of the app (as when scraped)\n",
       "Reviews                                                                                             Number of user reviews for the app (as when scraped)\n",
       "Size                                                                                                                   Size of the app (as when scraped)\n",
       "Installs                                                                                 Number of user downloads/installs for the app (as when scraped)\n",
       "Type                                                                                                                                        Paid or Free\n",
       "Price                                                                                                                 Price of the app (as when scraped)\n",
       "Content Rating                                                                          Age group the app is targeted at - Children / Mature 21+ / Adult\n",
       "Genres          An app can belong to multiple genres (apart from its main category). For eg, a musical family game will belong to Music, Game, Family ..\n",
       "Last Updated                                                                          Date when the app was last updated on Play Store (as when scraped)\n",
       "Current Ver                                                                         Current version of the app available on Play Store (as when scraped)\n",
       "Android Ver                                                                                               Min required Android version (as when scraped)"
      ]
     },
     "execution_count": 10,
     "metadata": {},
     "output_type": "execute_result"
    }
   ],
   "source": [
    "pd.set_option(\"max_colwidth\", 999)\n",
    "col_meaning_df = pd.read_csv('col_explain.csv',index_col ='Col')\n",
    "col_meaning_df"
   ]
  },
  {
   "cell_type": "markdown",
   "id": "58e718f8",
   "metadata": {
    "heading_collapsed": true
   },
   "source": [
    "### 5. Mỗi cột hiện đang có kiểu dữ liệu gì? Có cột nào có kiểu dữ liệu chưa phù hợp để có thể xử lý tiếp không?"
   ]
  },
  {
   "cell_type": "code",
   "execution_count": 11,
   "id": "23ead216",
   "metadata": {
    "hidden": true,
    "scrolled": false
   },
   "outputs": [
    {
     "data": {
      "text/plain": [
       "App                object\n",
       "Category           object\n",
       "Rating            float64\n",
       "Reviews            object\n",
       "Size               object\n",
       "Installs           object\n",
       "Type               object\n",
       "Price              object\n",
       "Content Rating     object\n",
       "Genres             object\n",
       "Last Updated       object\n",
       "Current Ver        object\n",
       "Android Ver        object\n",
       "dtype: object"
      ]
     },
     "execution_count": 11,
     "metadata": {},
     "output_type": "execute_result"
    }
   ],
   "source": [
    "dtypes = googleplaystore_df.dtypes\n",
    "dtypes"
   ]
  },
  {
   "cell_type": "markdown",
   "id": "ab2b154f",
   "metadata": {
    "hidden": true
   },
   "source": [
    "- Tìm hiểu kiểu dữ liệu thậ sự có ở các cột datatype là object"
   ]
  },
  {
   "cell_type": "code",
   "execution_count": 12,
   "id": "6c8bbbb0",
   "metadata": {
    "hidden": true
   },
   "outputs": [],
   "source": [
    "def open_object_dtype(s):\n",
    "    dtypes = set()\n",
    "    \n",
    "    # YOUR CODE HERE\n",
    "    s.apply(lambda x: dtypes.add(type(x)))\n",
    "    \n",
    "    return dtypes"
   ]
  },
  {
   "cell_type": "code",
   "execution_count": 13,
   "id": "6cddcb2d",
   "metadata": {
    "hidden": true
   },
   "outputs": [
    {
     "name": "stdout",
     "output_type": "stream",
     "text": [
      "App\t: {<class 'str'>}\n",
      "Category\t: {<class 'str'>}\n",
      "Reviews\t: {<class 'str'>}\n",
      "Size\t: {<class 'str'>}\n",
      "Installs\t: {<class 'str'>}\n",
      "Type\t: {<class 'str'>, <class 'float'>}\n",
      "Price\t: {<class 'str'>}\n",
      "Content Rating\t: {<class 'str'>, <class 'float'>}\n",
      "Genres\t: {<class 'str'>}\n",
      "Last Updated\t: {<class 'str'>}\n",
      "Current Ver\t: {<class 'str'>, <class 'float'>}\n",
      "Android Ver\t: {<class 'str'>, <class 'float'>}\n"
     ]
    }
   ],
   "source": [
    "#Lấy tên cái thuộc tính có dtype là object\n",
    "col_name_dtype_object=['App', 'Category', 'Reviews', 'Size', 'Installs', 'Type',\n",
    "       'Price', 'Content Rating', 'Genres', 'Last Updated', 'Current Ver',\n",
    "       'Android Ver']\n",
    "# Kiểm tra dữ liệu thật của các cột này\n",
    "for i in col_name_dtype_object:\n",
    "    print (f'{i}\\t: {open_object_dtype(googleplaystore_df[i])}')"
   ]
  },
  {
   "cell_type": "markdown",
   "id": "f9d3cb4c",
   "metadata": {
    "hidden": true
   },
   "source": [
    "- Tiến hành xem chi tiết giá trị từng cột. Và xem có trị nào không đúng với ý nghĩa"
   ]
  },
  {
   "cell_type": "code",
   "execution_count": 14,
   "id": "53faa8fb",
   "metadata": {
    "hidden": true
   },
   "outputs": [
    {
     "data": {
      "text/plain": [
       "8884       27\n",
       "8532    40467\n",
       "324       115\n",
       "4541      259\n",
       "4636      573\n",
       "Name: Reviews, dtype: object"
      ]
     },
     "execution_count": 14,
     "metadata": {},
     "output_type": "execute_result"
    }
   ],
   "source": [
    "googleplaystore_df['Reviews'].head()"
   ]
  },
  {
   "cell_type": "markdown",
   "id": "fa9dcf38",
   "metadata": {
    "hidden": true
   },
   "source": [
    " - Cột này nên chuyển sang dạng số nguyên."
   ]
  },
  {
   "cell_type": "code",
   "execution_count": 15,
   "id": "5b0198eb",
   "metadata": {
    "hidden": true
   },
   "outputs": [
    {
     "data": {
      "text/plain": [
       "array(['3.6M', '22M', '9.1M', '203k', '53M', '14M', '41M', '3.8M', '48M',\n",
       "       '3.5M', '1.6M', '5.0M', '25M', '20M', '15M', '29M', '1.4M', '26M',\n",
       "       '10M', '31M', '13M', 'Varies with device', '2.0M', '2.4M', '3.7M',\n",
       "       '38M', '39M', '6.3M', '5.1M', '42M', '8.1M', '30M', '32M', '40M',\n",
       "       '7.6M', '371k', '17M', '24M', '7.4M', '37M', '69M', '28M', '21M',\n",
       "       '7.3M', '56M', '2.5M', '2.3M', '4.1M', '243k', '11M', '2.9M',\n",
       "       '54M', '8.4M', '8.0M', '6.8M', '52M', '6.1M', '9.0M', '1.2M',\n",
       "       '4.3M', '23M', '67M', '16M', '68M', '8.8M', '19M', '239k', '4.4M',\n",
       "       '33M', '2.1M', '3.0M', '5.7M', '18M', '8.2M', '35M', '91M', '1.8M',\n",
       "       '3.2M', '3.1M', '9.7M', '1.7M', '3.4M', '27M', '4.2M', '7.7M',\n",
       "       '4.5M', '45M', '2.8M', '78k', '6.6M', '66M', '12M', '4.0M', '317k',\n",
       "       '9.2M', '902k', '924k', '62M', '2.7M', '47M', '8.7M', '81k', '59M',\n",
       "       '86M', '99M', '3.3M', '5.3M', '45k', '169k', '3.9M', '475k',\n",
       "       '7.0M', '5.8M', '71M', '72M', '46M', '9.9M', '96M', '5.4M', '545k',\n",
       "       '1.5M', '283k', '9.5M', '4.6M', '1.3M', '5.6M', '714k', '70M',\n",
       "       '36M', '9.8M', '6.0M', '8.9M', '34M', '7.5M', '49M', '44M', '4.7M',\n",
       "       '2.6M', '238k', '76M', '5.2M', '6.9M', '50M', '8.5M', '91k',\n",
       "       '730k', '293k', '17k', '5.5M', '141k', '170k', '160k', '144k',\n",
       "       '143k', '88M', '5.9M', '43M', '74M', '220k', '6.7M', '1.1M',\n",
       "       '4.9M', '55M', '266k', '61M', '6.5M', '2.2M', '63M', '93M', '60M',\n",
       "       '57M', '97M', '82M', '58M', '9.6M', '292k', '85M', '8.3M', '10.0M',\n",
       "       '6.2M', '80M', '7.9M', '92M', '6.4M', '219k', '90M', '7.1M', '94M',\n",
       "       '232k', '624k', '64M', '1.9M', '7.2M', '7.8M', '9.4M', '717k',\n",
       "       '81M', '308k', '210k', '8.6M', '4.8M', '473k', '201k', '175k',\n",
       "       '65M', '963k', '421k', '1.0M', '9.3M', '414k', '442k', '478k',\n",
       "       '728k', '200k', '496k', '334k', '816k', '812k', '430k', '412k',\n",
       "       '429k', '335k', '842k', '417k', '721k', '460k', '459k', '192k',\n",
       "       '782k', '506k', '70k', '613k', '647k', '319k', '592k', '191k',\n",
       "       '186k', '683k', '222k', '598k', '437k', '948k', '373k', '511k',\n",
       "       '691k', '98M', '206k', '444k', '746k', '78M', '982k', '84M', '87M',\n",
       "       '95M', '25k', '51M', '89M', '208k', '75M', '240k', '375k', '913k',\n",
       "       '323k', '514k', '103k', '29k', '172k', '116k', '153k', '499k',\n",
       "       '173k', '122k', '787k', '986k', '97k', '516k', '961k', '498k',\n",
       "       '269k', '780k', '749k', '118k', '50k', '79M', '100M', '77M',\n",
       "       '619k', '73M', '89k', '914k', '353k', '784k', '951k', '83M',\n",
       "       '609k', '164k', '942k', '221k', '108k', '957k', '34k', '458k',\n",
       "       '245k', '775k', '28k', '939k', '636k', '994k', '608k', '54k',\n",
       "       '259k', '454k', '51k', '818k', '857k', '74k', '467k', '976k',\n",
       "       '329k', '921k', '981k', '280k', '24k', '322k', '862k', '518k',\n",
       "       '892k', '154k', '33k', '860k', '364k', '387k', '161k', '879k',\n",
       "       '970k', '39k', '865k', '228k', '193k', '874k', '270k', '48k',\n",
       "       '523k', '8.5k', '656k', '241k', '58k', '73k', '992k', '209k',\n",
       "       '861k', '44k', '67k', '885k', '157k', '552k', '582k', '975k',\n",
       "       '720k', '18k', '954k', '785k', '470k', '196k', '376k', '695k',\n",
       "       '251k', '853k', '400k', '663k', '257k', '79k', '597k', '676k',\n",
       "       '965k', '837k', '246k', '411k', '629k', '953k', '55k', '779k',\n",
       "       '840k', '585k', '658k', '772k', '600k', '904k', '1,000+', '27k',\n",
       "       '11k', '350k', '743k', '643k', '309k', '20k', '318k', '288k',\n",
       "       '540k', '14k', '930k', '916k', '696k', '778k', '485k', '562k',\n",
       "       '754k', '920k', '626k', '378k', '847k', '190k', '234k', '23k',\n",
       "       '556k', '899k', '526k', '420k', '383k', '313k', '500k', '940k',\n",
       "       '226k', '809k', '26k', '314k', '72k', '716k', '756k', '93k',\n",
       "       '176k', '688k', '525k', '705k', '713k', '872k', '121k', '980k',\n",
       "       '801k', '811k', '551k', '351k', '82k', '569k', '237k', '642k',\n",
       "       '601k', '306k', '253k', '61k', '903k', '41k', '887k', '1020k',\n",
       "       '404k', '544k', '554k', '704k', '655k', '898k', '881k', '549k'],\n",
       "      dtype=object)"
      ]
     },
     "execution_count": 15,
     "metadata": {},
     "output_type": "execute_result"
    }
   ],
   "source": [
    "googleplaystore_df['Size'].unique()"
   ]
  },
  {
   "cell_type": "markdown",
   "id": "700d8b10",
   "metadata": {
    "hidden": true
   },
   "source": [
    " - Cột này sẽ chuyển theo đơn vị kb"
   ]
  },
  {
   "cell_type": "code",
   "execution_count": 16,
   "id": "a6a1ead5",
   "metadata": {
    "hidden": true
   },
   "outputs": [
    {
     "data": {
      "text/plain": [
       "8884          500+\n",
       "8532    1,000,000+\n",
       "324        10,000+\n",
       "4541       10,000+\n",
       "4636       10,000+\n",
       "Name: Installs, dtype: object"
      ]
     },
     "execution_count": 16,
     "metadata": {},
     "output_type": "execute_result"
    }
   ],
   "source": [
    "googleplaystore_df['Installs'].head()"
   ]
  },
  {
   "cell_type": "markdown",
   "id": "6e4252f6",
   "metadata": {
    "hidden": true
   },
   "source": [
    " - Nhìn sơ ta thấy cột này lưu bằng kiểu trên một con số chứ không phải một số cụ thể nên muốn chuyển qua dạng số cần sửa lại thông tin bằng cách bỏ dấu __'+'__"
   ]
  },
  {
   "cell_type": "code",
   "execution_count": 17,
   "id": "93df2bdc",
   "metadata": {
    "hidden": true
   },
   "outputs": [
    {
     "data": {
      "text/plain": [
       "array(['0', '$1.49', '$0.99', '$3.08', '$16.99', '$9.99', '$33.99',\n",
       "       '$2.00', '$3.04', '$8.99', '$1.99', '$2.49', '$5.00', '$4.99',\n",
       "       '$2.99', '$7.99', '$29.99', '$3.99', '$19.90', '$2.60', '$6.49',\n",
       "       '$1.29', '$24.99', '$13.99', '$4.49', '$14.99', '$1.50', '$1.00',\n",
       "       '$3.90', '$1.75', '$5.99', '$109.99', '$4.80', '$3.49', '$11.99',\n",
       "       '$2.59', '$14.00', '$10.99', '$5.49', '$6.99', '$3.95', '$12.99',\n",
       "       '$7.49', '$19.99', '$3.28', '$46.99', '$28.99', '$200.00', '$3.61',\n",
       "       '$4.77', '$394.99', '$30.99', '$3.88', '$25.99', '$8.49',\n",
       "       '$399.99', '$389.99', '$37.99', '$18.99', '$379.99', '$299.99',\n",
       "       '$400.00', '$1.26', '$15.46', '$39.99', '$74.99', '$89.99',\n",
       "       'Everyone', '$1.61', '$1.59', '$9.00', '$15.99', '$1.70', '$3.02',\n",
       "       '$4.60', '$10.00', '$1.76', '$4.84', '$4.85', '$4.59', '$2.95',\n",
       "       '$17.99', '$1.97', '$79.99', '$2.90', '$1.04', '$2.56', '$2.50',\n",
       "       '$19.40', '$1.96', '$154.99', '$4.29', '$1.20'], dtype=object)"
      ]
     },
     "execution_count": 17,
     "metadata": {},
     "output_type": "execute_result"
    }
   ],
   "source": [
    "googleplaystore_df['Price'].unique()"
   ]
  },
  {
   "cell_type": "code",
   "execution_count": 18,
   "id": "65f06b6f",
   "metadata": {
    "hidden": true,
    "scrolled": true
   },
   "outputs": [
    {
     "data": {
      "text/html": [
       "<div>\n",
       "<style scoped>\n",
       "    .dataframe tbody tr th:only-of-type {\n",
       "        vertical-align: middle;\n",
       "    }\n",
       "\n",
       "    .dataframe tbody tr th {\n",
       "        vertical-align: top;\n",
       "    }\n",
       "\n",
       "    .dataframe thead th {\n",
       "        text-align: right;\n",
       "    }\n",
       "</style>\n",
       "<table border=\"1\" class=\"dataframe\">\n",
       "  <thead>\n",
       "    <tr style=\"text-align: right;\">\n",
       "      <th></th>\n",
       "      <th>App</th>\n",
       "      <th>Category</th>\n",
       "      <th>Rating</th>\n",
       "      <th>Reviews</th>\n",
       "      <th>Size</th>\n",
       "      <th>Installs</th>\n",
       "      <th>Type</th>\n",
       "      <th>Price</th>\n",
       "      <th>Content Rating</th>\n",
       "      <th>Genres</th>\n",
       "      <th>Last Updated</th>\n",
       "      <th>Current Ver</th>\n",
       "      <th>Android Ver</th>\n",
       "    </tr>\n",
       "  </thead>\n",
       "  <tbody>\n",
       "    <tr>\n",
       "      <th>10472</th>\n",
       "      <td>Life Made WI-Fi Touchscreen Photo Frame</td>\n",
       "      <td>1.9</td>\n",
       "      <td>19.0</td>\n",
       "      <td>3.0M</td>\n",
       "      <td>1,000+</td>\n",
       "      <td>Free</td>\n",
       "      <td>0</td>\n",
       "      <td>Everyone</td>\n",
       "      <td>NaN</td>\n",
       "      <td>February 11, 2018</td>\n",
       "      <td>1.0.19</td>\n",
       "      <td>4.0 and up</td>\n",
       "      <td>NaN</td>\n",
       "    </tr>\n",
       "  </tbody>\n",
       "</table>\n",
       "</div>"
      ],
      "text/plain": [
       "                                           App Category  Rating Reviews  \\\n",
       "10472  Life Made WI-Fi Touchscreen Photo Frame      1.9    19.0    3.0M   \n",
       "\n",
       "         Size Installs Type     Price Content Rating             Genres  \\\n",
       "10472  1,000+     Free    0  Everyone            NaN  February 11, 2018   \n",
       "\n",
       "      Last Updated Current Ver Android Ver  \n",
       "10472       1.0.19  4.0 and up         NaN  "
      ]
     },
     "execution_count": 18,
     "metadata": {},
     "output_type": "execute_result"
    }
   ],
   "source": [
    "googleplaystore_df.loc[googleplaystore_df['Price'] == 'Everyone']"
   ]
  },
  {
   "cell_type": "markdown",
   "id": "7e4340e0",
   "metadata": {
    "hidden": true
   },
   "source": [
    "- Ta phát hiện dòng này bị thụt 1 cột, nên sẽ ưu tiên xóa dòng này đi rồi mới chuyển các cột khác sang dạng số. Tiến hành xóa nó ngay. Nó có index là 10472"
   ]
  },
  {
   "cell_type": "code",
   "execution_count": 19,
   "id": "33d3814c",
   "metadata": {
    "hidden": true
   },
   "outputs": [],
   "source": [
    "googleplaystore_df.drop(index=10472,inplace=True)"
   ]
  },
  {
   "cell_type": "code",
   "execution_count": 20,
   "id": "e6f6156c",
   "metadata": {
    "hidden": true
   },
   "outputs": [
    {
     "data": {
      "text/plain": [
       "8884       October 7, 2017\n",
       "8532        August 2, 2018\n",
       "324          July 13, 2018\n",
       "4541    September 16, 2014\n",
       "4636          July 3, 2018\n",
       "Name: Last Updated, dtype: object"
      ]
     },
     "execution_count": 20,
     "metadata": {},
     "output_type": "execute_result"
    }
   ],
   "source": [
    "googleplaystore_df['Last Updated'].head()"
   ]
  },
  {
   "cell_type": "markdown",
   "id": "c47bc789",
   "metadata": {
    "hidden": true
   },
   "source": [
    " - Cột này nên chuyển về datetime"
   ]
  },
  {
   "cell_type": "markdown",
   "id": "89da23cf",
   "metadata": {
    "hidden": true
   },
   "source": [
    "---"
   ]
  },
  {
   "cell_type": "markdown",
   "id": "7ec60f17",
   "metadata": {
    "heading_collapsed": true
   },
   "source": [
    "## III. Tiền xử lý"
   ]
  },
  {
   "cell_type": "markdown",
   "id": "9d108c83",
   "metadata": {
    "hidden": true
   },
   "source": [
    " - Chuyển cột __'Size'__\n",
    "\n",
    "Các giá trị 'Varies with device' sẽ được thay bằng __mean__"
   ]
  },
  {
   "cell_type": "code",
   "execution_count": 21,
   "id": "df1d2c45",
   "metadata": {
    "hidden": true
   },
   "outputs": [
    {
     "data": {
      "text/plain": [
       "8884     3686.4\n",
       "8532    22528.0\n",
       "324      9318.4\n",
       "4541      203.0\n",
       "4636    54272.0\n",
       "Name: Size, dtype: float64"
      ]
     },
     "execution_count": 21,
     "metadata": {},
     "output_type": "execute_result"
    }
   ],
   "source": [
    "googleplaystore_df['Size'] = googleplaystore_df['Size'].apply(lambda x: x.replace('Varies with device', '0'))\n",
    "googleplaystore_df['Size'] = googleplaystore_df['Size'].apply(lambda x: x.replace('k', ''))\n",
    "googleplaystore_df['Size'] = googleplaystore_df['Size'].apply(lambda x: (float(x.replace('M', ''))*1024) if 'M' in x else x)\n",
    "googleplaystore_df['Size'] = pd.to_numeric(googleplaystore_df.Size)\n",
    "mean_temp = googleplaystore_df['Size'].loc[googleplaystore_df['Size'] != 0].mean()\n",
    "googleplaystore_df['Size'] = googleplaystore_df['Size'].apply(lambda x: mean_temp if x == 0 else x)\n",
    "googleplaystore_df['Size'] = googleplaystore_df['Size'].apply(lambda x: round(x, 1))\n",
    "googleplaystore_df['Size'].head()"
   ]
  },
  {
   "cell_type": "markdown",
   "id": "d756e8e3",
   "metadata": {
    "hidden": true
   },
   "source": [
    " - Chuyển cột __'installs'__"
   ]
  },
  {
   "cell_type": "code",
   "execution_count": 22,
   "id": "0a1002a2",
   "metadata": {
    "hidden": true
   },
   "outputs": [
    {
     "data": {
      "text/plain": [
       "array([       500,    1000000,      10000,        100,     100000,\n",
       "           500000,   10000000,       5000,      50000,          5,\n",
       "             1000,         10,   50000000,  100000000,    5000000,\n",
       "               50,          0,          1,  500000000, 1000000000],\n",
       "      dtype=int64)"
      ]
     },
     "execution_count": 22,
     "metadata": {},
     "output_type": "execute_result"
    }
   ],
   "source": [
    "googleplaystore_df['Installs'] = googleplaystore_df['Installs'].apply(lambda x: x.replace('+', ''))\n",
    "googleplaystore_df['Installs'] = googleplaystore_df['Installs'].apply(lambda x: x.replace(',', ''))\n",
    "googleplaystore_df['Installs'] = pd.to_numeric(googleplaystore_df.Installs)\n",
    "googleplaystore_df['Installs'].unique()"
   ]
  },
  {
   "cell_type": "markdown",
   "id": "f04b9b35",
   "metadata": {
    "hidden": true
   },
   "source": [
    " - Chuyển cột __'Price'__"
   ]
  },
  {
   "cell_type": "code",
   "execution_count": 23,
   "id": "a89a6a04",
   "metadata": {
    "hidden": true
   },
   "outputs": [
    {
     "data": {
      "text/plain": [
       "array([  0.  ,   1.49,   0.99,   3.08,  16.99,   9.99,  33.99,   2.  ,\n",
       "         3.04,   8.99,   1.99,   2.49,   5.  ,   4.99,   2.99,   7.99,\n",
       "        29.99,   3.99,  19.9 ,   2.6 ,   6.49,   1.29,  24.99,  13.99,\n",
       "         4.49,  14.99,   1.5 ,   1.  ,   3.9 ,   1.75,   5.99, 109.99,\n",
       "         4.8 ,   3.49,  11.99,   2.59,  14.  ,  10.99,   5.49,   6.99,\n",
       "         3.95,  12.99,   7.49,  19.99,   3.28,  46.99,  28.99, 200.  ,\n",
       "         3.61,   4.77, 394.99,  30.99,   3.88,  25.99,   8.49, 399.99,\n",
       "       389.99,  37.99,  18.99, 379.99, 299.99, 400.  ,   1.26,  15.46,\n",
       "        39.99,  74.99,  89.99,   1.61,   1.59,   9.  ,  15.99,   1.7 ,\n",
       "         3.02,   4.6 ,  10.  ,   1.76,   4.84,   4.85,   4.59,   2.95,\n",
       "        17.99,   1.97,  79.99,   2.9 ,   1.04,   2.56,   2.5 ,  19.4 ,\n",
       "         1.96, 154.99,   4.29,   1.2 ])"
      ]
     },
     "execution_count": 23,
     "metadata": {},
     "output_type": "execute_result"
    }
   ],
   "source": [
    "googleplaystore_df['Price'] = googleplaystore_df['Price'].apply(lambda x: x.replace('$', ''))\n",
    "googleplaystore_df['Price'] = pd.to_numeric(googleplaystore_df.Price)\n",
    "googleplaystore_df['Price'].unique()"
   ]
  },
  {
   "cell_type": "markdown",
   "id": "9146325b",
   "metadata": {
    "hidden": true
   },
   "source": [
    " - Chuyển cột __'Last Updated'__"
   ]
  },
  {
   "cell_type": "code",
   "execution_count": 24,
   "id": "fe8870a9",
   "metadata": {
    "hidden": true
   },
   "outputs": [
    {
     "data": {
      "text/plain": [
       "<bound method NDFrame.head of 8884   2017-10-07\n",
       "8532   2018-08-02\n",
       "324    2018-07-13\n",
       "4541   2014-09-16\n",
       "4636   2018-07-03\n",
       "          ...    \n",
       "6334   2018-07-18\n",
       "4362   2018-03-11\n",
       "2575   2018-07-24\n",
       "7559   2017-10-21\n",
       "882    2018-07-14\n",
       "Name: Last Updated, Length: 9659, dtype: datetime64[ns]>"
      ]
     },
     "execution_count": 24,
     "metadata": {},
     "output_type": "execute_result"
    }
   ],
   "source": [
    "googleplaystore_df['Last Updated'] = pd.to_datetime(googleplaystore_df['Last Updated'])\n",
    "googleplaystore_df['Last Updated'].head"
   ]
  },
  {
   "cell_type": "markdown",
   "id": "652e8e12",
   "metadata": {
    "hidden": true
   },
   "source": [
    "### Với mỗi cột có kiểu dữ liệu dạng số (numeric) và dạng datetime, các giá trị được phân bố như thế nào?"
   ]
  },
  {
   "cell_type": "markdown",
   "id": "c871a9d0",
   "metadata": {
    "hidden": true
   },
   "source": [
    " - Cột dạng số"
   ]
  },
  {
   "cell_type": "code",
   "execution_count": 25,
   "id": "dfd41d47",
   "metadata": {
    "hidden": true
   },
   "outputs": [
    {
     "data": {
      "text/html": [
       "<div>\n",
       "<style scoped>\n",
       "    .dataframe tbody tr th:only-of-type {\n",
       "        vertical-align: middle;\n",
       "    }\n",
       "\n",
       "    .dataframe tbody tr th {\n",
       "        vertical-align: top;\n",
       "    }\n",
       "\n",
       "    .dataframe thead th {\n",
       "        text-align: right;\n",
       "    }\n",
       "</style>\n",
       "<table border=\"1\" class=\"dataframe\">\n",
       "  <thead>\n",
       "    <tr style=\"text-align: right;\">\n",
       "      <th></th>\n",
       "      <th>Rating</th>\n",
       "      <th>Size</th>\n",
       "      <th>Installs</th>\n",
       "      <th>Price</th>\n",
       "    </tr>\n",
       "  </thead>\n",
       "  <tbody>\n",
       "    <tr>\n",
       "      <th>8884</th>\n",
       "      <td>NaN</td>\n",
       "      <td>3686.4</td>\n",
       "      <td>500</td>\n",
       "      <td>0.00</td>\n",
       "    </tr>\n",
       "    <tr>\n",
       "      <th>8532</th>\n",
       "      <td>4.5</td>\n",
       "      <td>22528.0</td>\n",
       "      <td>1000000</td>\n",
       "      <td>0.00</td>\n",
       "    </tr>\n",
       "    <tr>\n",
       "      <th>324</th>\n",
       "      <td>3.5</td>\n",
       "      <td>9318.4</td>\n",
       "      <td>10000</td>\n",
       "      <td>0.00</td>\n",
       "    </tr>\n",
       "    <tr>\n",
       "      <th>4541</th>\n",
       "      <td>4.5</td>\n",
       "      <td>203.0</td>\n",
       "      <td>10000</td>\n",
       "      <td>0.00</td>\n",
       "    </tr>\n",
       "    <tr>\n",
       "      <th>4636</th>\n",
       "      <td>4.7</td>\n",
       "      <td>54272.0</td>\n",
       "      <td>10000</td>\n",
       "      <td>0.00</td>\n",
       "    </tr>\n",
       "    <tr>\n",
       "      <th>...</th>\n",
       "      <td>...</td>\n",
       "      <td>...</td>\n",
       "      <td>...</td>\n",
       "      <td>...</td>\n",
       "    </tr>\n",
       "    <tr>\n",
       "      <th>6334</th>\n",
       "      <td>NaN</td>\n",
       "      <td>60416.0</td>\n",
       "      <td>100000</td>\n",
       "      <td>0.00</td>\n",
       "    </tr>\n",
       "    <tr>\n",
       "      <th>4362</th>\n",
       "      <td>3.8</td>\n",
       "      <td>26624.0</td>\n",
       "      <td>10000</td>\n",
       "      <td>399.99</td>\n",
       "    </tr>\n",
       "    <tr>\n",
       "      <th>2575</th>\n",
       "      <td>4.6</td>\n",
       "      <td>18432.0</td>\n",
       "      <td>1000000</td>\n",
       "      <td>0.00</td>\n",
       "    </tr>\n",
       "    <tr>\n",
       "      <th>7559</th>\n",
       "      <td>4.0</td>\n",
       "      <td>3276.8</td>\n",
       "      <td>10000</td>\n",
       "      <td>0.00</td>\n",
       "    </tr>\n",
       "    <tr>\n",
       "      <th>882</th>\n",
       "      <td>4.7</td>\n",
       "      <td>4096.0</td>\n",
       "      <td>1000000</td>\n",
       "      <td>0.00</td>\n",
       "    </tr>\n",
       "  </tbody>\n",
       "</table>\n",
       "<p>9659 rows × 4 columns</p>\n",
       "</div>"
      ],
      "text/plain": [
       "      Rating     Size  Installs   Price\n",
       "8884     NaN   3686.4       500    0.00\n",
       "8532     4.5  22528.0   1000000    0.00\n",
       "324      3.5   9318.4     10000    0.00\n",
       "4541     4.5    203.0     10000    0.00\n",
       "4636     4.7  54272.0     10000    0.00\n",
       "...      ...      ...       ...     ...\n",
       "6334     NaN  60416.0    100000    0.00\n",
       "4362     3.8  26624.0     10000  399.99\n",
       "2575     4.6  18432.0   1000000    0.00\n",
       "7559     4.0   3276.8     10000    0.00\n",
       "882      4.7   4096.0   1000000    0.00\n",
       "\n",
       "[9659 rows x 4 columns]"
      ]
     },
     "execution_count": 25,
     "metadata": {},
     "output_type": "execute_result"
    }
   ],
   "source": [
    "numeric_col = googleplaystore_df.select_dtypes(include=np.number)\n",
    "numeric_col"
   ]
  },
  {
   "cell_type": "code",
   "execution_count": 26,
   "id": "c9e0cd8d",
   "metadata": {
    "hidden": true
   },
   "outputs": [
    {
     "data": {
      "text/html": [
       "<div>\n",
       "<style scoped>\n",
       "    .dataframe tbody tr th:only-of-type {\n",
       "        vertical-align: middle;\n",
       "    }\n",
       "\n",
       "    .dataframe tbody tr th {\n",
       "        vertical-align: top;\n",
       "    }\n",
       "\n",
       "    .dataframe thead th {\n",
       "        text-align: right;\n",
       "    }\n",
       "</style>\n",
       "<table border=\"1\" class=\"dataframe\">\n",
       "  <thead>\n",
       "    <tr style=\"text-align: right;\">\n",
       "      <th></th>\n",
       "      <th>Rating</th>\n",
       "      <th>Size</th>\n",
       "      <th>Installs</th>\n",
       "      <th>Price</th>\n",
       "    </tr>\n",
       "  </thead>\n",
       "  <tbody>\n",
       "    <tr>\n",
       "      <th>missing_percent</th>\n",
       "      <td>15.156849</td>\n",
       "      <td>0.000000</td>\n",
       "      <td>0.000000e+00</td>\n",
       "      <td>0.000000</td>\n",
       "    </tr>\n",
       "    <tr>\n",
       "      <th>min</th>\n",
       "      <td>1.000000</td>\n",
       "      <td>8.500000</td>\n",
       "      <td>0.000000e+00</td>\n",
       "      <td>0.000000</td>\n",
       "    </tr>\n",
       "    <tr>\n",
       "      <th>max</th>\n",
       "      <td>5.000000</td>\n",
       "      <td>102400.000000</td>\n",
       "      <td>1.000000e+09</td>\n",
       "      <td>400.000000</td>\n",
       "    </tr>\n",
       "    <tr>\n",
       "      <th>mean</th>\n",
       "      <td>4.173191</td>\n",
       "      <td>20880.902578</td>\n",
       "      <td>7.779888e+06</td>\n",
       "      <td>1.097954</td>\n",
       "    </tr>\n",
       "  </tbody>\n",
       "</table>\n",
       "</div>"
      ],
      "text/plain": [
       "                    Rating           Size      Installs       Price\n",
       "missing_percent  15.156849       0.000000  0.000000e+00    0.000000\n",
       "min               1.000000       8.500000  0.000000e+00    0.000000\n",
       "max               5.000000  102400.000000  1.000000e+09  400.000000\n",
       "mean              4.173191   20880.902578  7.779888e+06    1.097954"
      ]
     },
     "execution_count": 26,
     "metadata": {},
     "output_type": "execute_result"
    }
   ],
   "source": [
    "percent_missing = numeric_col.isnull().sum() * 100 / len(numeric_col)\n",
    "numeric_val = percent_missing, numeric_col.min(), numeric_col.max(), numeric_col.mean()\n",
    "Hmm = pd.DataFrame(numeric_val, index = ['missing_percent', 'min', 'max', 'mean'])\n",
    "Hmm"
   ]
  },
  {
   "cell_type": "markdown",
   "id": "b2a77491",
   "metadata": {
    "hidden": true
   },
   "source": [
    "Ở cột __'Rating'__ bị thiếu khoảng 15% nên ta sẽ tìm hiểu lí do "
   ]
  },
  {
   "cell_type": "code",
   "execution_count": 27,
   "id": "247fbc0c",
   "metadata": {
    "hidden": true
   },
   "outputs": [
    {
     "data": {
      "text/html": [
       "<div>\n",
       "<style scoped>\n",
       "    .dataframe tbody tr th:only-of-type {\n",
       "        vertical-align: middle;\n",
       "    }\n",
       "\n",
       "    .dataframe tbody tr th {\n",
       "        vertical-align: top;\n",
       "    }\n",
       "\n",
       "    .dataframe thead th {\n",
       "        text-align: right;\n",
       "    }\n",
       "</style>\n",
       "<table border=\"1\" class=\"dataframe\">\n",
       "  <thead>\n",
       "    <tr style=\"text-align: right;\">\n",
       "      <th></th>\n",
       "      <th>App</th>\n",
       "      <th>Category</th>\n",
       "      <th>Rating</th>\n",
       "      <th>Reviews</th>\n",
       "      <th>Size</th>\n",
       "      <th>Installs</th>\n",
       "      <th>Type</th>\n",
       "      <th>Price</th>\n",
       "      <th>Content Rating</th>\n",
       "      <th>Genres</th>\n",
       "      <th>Last Updated</th>\n",
       "      <th>Current Ver</th>\n",
       "      <th>Android Ver</th>\n",
       "    </tr>\n",
       "  </thead>\n",
       "  <tbody>\n",
       "    <tr>\n",
       "      <th>6246</th>\n",
       "      <td>Coomotaxi BH</td>\n",
       "      <td>BUSINESS</td>\n",
       "      <td>NaN</td>\n",
       "      <td>94</td>\n",
       "      <td>8908.8</td>\n",
       "      <td>5000</td>\n",
       "      <td>Free</td>\n",
       "      <td>0.00</td>\n",
       "      <td>Everyone</td>\n",
       "      <td>Business</td>\n",
       "      <td>2018-05-24</td>\n",
       "      <td>3.44.1</td>\n",
       "      <td>4.0.3 and up</td>\n",
       "    </tr>\n",
       "    <tr>\n",
       "      <th>3959</th>\n",
       "      <td>B-17 Flying Fortress WWII LWP</td>\n",
       "      <td>PERSONALIZATION</td>\n",
       "      <td>NaN</td>\n",
       "      <td>7</td>\n",
       "      <td>14336.0</td>\n",
       "      <td>100</td>\n",
       "      <td>Paid</td>\n",
       "      <td>1.49</td>\n",
       "      <td>Everyone</td>\n",
       "      <td>Personalization</td>\n",
       "      <td>2016-12-22</td>\n",
       "      <td>1.0</td>\n",
       "      <td>4.1 and up</td>\n",
       "    </tr>\n",
       "    <tr>\n",
       "      <th>5126</th>\n",
       "      <td>Michael's AG Sound Board</td>\n",
       "      <td>FAMILY</td>\n",
       "      <td>NaN</td>\n",
       "      <td>0</td>\n",
       "      <td>1740.8</td>\n",
       "      <td>1</td>\n",
       "      <td>Paid</td>\n",
       "      <td>0.99</td>\n",
       "      <td>Everyone</td>\n",
       "      <td>Entertainment</td>\n",
       "      <td>2017-12-12</td>\n",
       "      <td>1.1</td>\n",
       "      <td>1.6 and up</td>\n",
       "    </tr>\n",
       "    <tr>\n",
       "      <th>7306</th>\n",
       "      <td>CG Wizard</td>\n",
       "      <td>TOOLS</td>\n",
       "      <td>NaN</td>\n",
       "      <td>6</td>\n",
       "      <td>1331.2</td>\n",
       "      <td>100</td>\n",
       "      <td>Free</td>\n",
       "      <td>0.00</td>\n",
       "      <td>Everyone</td>\n",
       "      <td>Tools</td>\n",
       "      <td>2018-05-22</td>\n",
       "      <td>1.6d</td>\n",
       "      <td>5.0 and up</td>\n",
       "    </tr>\n",
       "    <tr>\n",
       "      <th>10524</th>\n",
       "      <td>FK (FlightKid)</td>\n",
       "      <td>GAME</td>\n",
       "      <td>NaN</td>\n",
       "      <td>2</td>\n",
       "      <td>22528.0</td>\n",
       "      <td>10</td>\n",
       "      <td>Free</td>\n",
       "      <td>0.00</td>\n",
       "      <td>Everyone</td>\n",
       "      <td>Action</td>\n",
       "      <td>2016-03-03</td>\n",
       "      <td>1.0</td>\n",
       "      <td>4.0 and up</td>\n",
       "    </tr>\n",
       "    <tr>\n",
       "      <th>4465</th>\n",
       "      <td>Popsicle Launcher for Android P 9.0 launcher</td>\n",
       "      <td>PERSONALIZATION</td>\n",
       "      <td>NaN</td>\n",
       "      <td>0</td>\n",
       "      <td>5632.0</td>\n",
       "      <td>0</td>\n",
       "      <td>Paid</td>\n",
       "      <td>1.49</td>\n",
       "      <td>Everyone</td>\n",
       "      <td>Personalization</td>\n",
       "      <td>2018-07-11</td>\n",
       "      <td>1.1</td>\n",
       "      <td>4.2 and up</td>\n",
       "    </tr>\n",
       "    <tr>\n",
       "      <th>10184</th>\n",
       "      <td>NCLEX-RN Q&amp;A FLASH CARDS - FA Davis</td>\n",
       "      <td>MEDICAL</td>\n",
       "      <td>NaN</td>\n",
       "      <td>2</td>\n",
       "      <td>7782.4</td>\n",
       "      <td>1000</td>\n",
       "      <td>Free</td>\n",
       "      <td>0.00</td>\n",
       "      <td>Everyone</td>\n",
       "      <td>Medical</td>\n",
       "      <td>2018-07-19</td>\n",
       "      <td>2.7.6</td>\n",
       "      <td>5.0 and up</td>\n",
       "    </tr>\n",
       "    <tr>\n",
       "      <th>6665</th>\n",
       "      <td>BAR-B-Q Recipes</td>\n",
       "      <td>FOOD_AND_DRINK</td>\n",
       "      <td>NaN</td>\n",
       "      <td>0</td>\n",
       "      <td>3686.4</td>\n",
       "      <td>100</td>\n",
       "      <td>Free</td>\n",
       "      <td>0.00</td>\n",
       "      <td>Everyone</td>\n",
       "      <td>Food &amp; Drink</td>\n",
       "      <td>2018-01-30</td>\n",
       "      <td>1.0</td>\n",
       "      <td>4.0 and up</td>\n",
       "    </tr>\n",
       "    <tr>\n",
       "      <th>5298</th>\n",
       "      <td>Wallpapers AK 12</td>\n",
       "      <td>PERSONALIZATION</td>\n",
       "      <td>NaN</td>\n",
       "      <td>0</td>\n",
       "      <td>11264.0</td>\n",
       "      <td>10</td>\n",
       "      <td>Free</td>\n",
       "      <td>0.00</td>\n",
       "      <td>Teen</td>\n",
       "      <td>Personalization</td>\n",
       "      <td>2018-04-12</td>\n",
       "      <td>1.0</td>\n",
       "      <td>4.1 and up</td>\n",
       "    </tr>\n",
       "    <tr>\n",
       "      <th>5281</th>\n",
       "      <td>AK 47 Assault Rifle Wallpapers</td>\n",
       "      <td>PERSONALIZATION</td>\n",
       "      <td>NaN</td>\n",
       "      <td>1</td>\n",
       "      <td>15360.0</td>\n",
       "      <td>100</td>\n",
       "      <td>Free</td>\n",
       "      <td>0.00</td>\n",
       "      <td>Teen</td>\n",
       "      <td>Personalization</td>\n",
       "      <td>2018-02-22</td>\n",
       "      <td>1.0</td>\n",
       "      <td>4.1 and up</td>\n",
       "    </tr>\n",
       "  </tbody>\n",
       "</table>\n",
       "</div>"
      ],
      "text/plain": [
       "                                                App         Category  Rating  \\\n",
       "6246                                   Coomotaxi BH         BUSINESS     NaN   \n",
       "3959                  B-17 Flying Fortress WWII LWP  PERSONALIZATION     NaN   \n",
       "5126                       Michael's AG Sound Board           FAMILY     NaN   \n",
       "7306                                      CG Wizard            TOOLS     NaN   \n",
       "10524                                FK (FlightKid)             GAME     NaN   \n",
       "4465   Popsicle Launcher for Android P 9.0 launcher  PERSONALIZATION     NaN   \n",
       "10184           NCLEX-RN Q&A FLASH CARDS - FA Davis          MEDICAL     NaN   \n",
       "6665                                BAR-B-Q Recipes   FOOD_AND_DRINK     NaN   \n",
       "5298                               Wallpapers AK 12  PERSONALIZATION     NaN   \n",
       "5281                 AK 47 Assault Rifle Wallpapers  PERSONALIZATION     NaN   \n",
       "\n",
       "      Reviews     Size  Installs  Type  Price Content Rating           Genres  \\\n",
       "6246       94   8908.8      5000  Free   0.00       Everyone         Business   \n",
       "3959        7  14336.0       100  Paid   1.49       Everyone  Personalization   \n",
       "5126        0   1740.8         1  Paid   0.99       Everyone    Entertainment   \n",
       "7306        6   1331.2       100  Free   0.00       Everyone            Tools   \n",
       "10524       2  22528.0        10  Free   0.00       Everyone           Action   \n",
       "4465        0   5632.0         0  Paid   1.49       Everyone  Personalization   \n",
       "10184       2   7782.4      1000  Free   0.00       Everyone          Medical   \n",
       "6665        0   3686.4       100  Free   0.00       Everyone     Food & Drink   \n",
       "5298        0  11264.0        10  Free   0.00           Teen  Personalization   \n",
       "5281        1  15360.0       100  Free   0.00           Teen  Personalization   \n",
       "\n",
       "      Last Updated Current Ver   Android Ver  \n",
       "6246    2018-05-24      3.44.1  4.0.3 and up  \n",
       "3959    2016-12-22         1.0    4.1 and up  \n",
       "5126    2017-12-12         1.1    1.6 and up  \n",
       "7306    2018-05-22        1.6d    5.0 and up  \n",
       "10524   2016-03-03         1.0    4.0 and up  \n",
       "4465    2018-07-11         1.1    4.2 and up  \n",
       "10184   2018-07-19       2.7.6    5.0 and up  \n",
       "6665    2018-01-30         1.0    4.0 and up  \n",
       "5298    2018-04-12         1.0    4.1 and up  \n",
       "5281    2018-02-22         1.0    4.1 and up  "
      ]
     },
     "execution_count": 27,
     "metadata": {},
     "output_type": "execute_result"
    }
   ],
   "source": [
    "# googleplaystore_df.loc[googleplaystore_df['Rating'] == np.nan]\n",
    "check=googleplaystore_df[googleplaystore_df['Rating'].isna()]\n",
    "check.sort_values('Reviews',ascending=False).sample(10)"
   ]
  },
  {
   "cell_type": "markdown",
   "id": "06524e60",
   "metadata": {
    "hidden": true
   },
   "source": [
    "- Dựa vào dữ liệu thì ta có thể thấy __'Rating'__ bị bỏ trống vì review và install của app này khá ít so với các app khác nên có thể đoán là app được design khá tệ về nội dung cũng như phần đánh giá nên có thể xem như không ai rating.\n",
    "- Và ta tiến hành xem reviews hay install ít khiến cho app không có __'Rating'__ . Hmm đúng là thật. Ta thấy 100k install không phải là ít nhưng chỉ có dưới 1k thậm chí phần nhiều chưa nổi 100 reviews. Còn sự thật thế nào để xem sau."
   ]
  },
  {
   "cell_type": "markdown",
   "id": "5ae09414",
   "metadata": {
    "hidden": true
   },
   "source": [
    " - Cột dạng datetime"
   ]
  },
  {
   "cell_type": "code",
   "execution_count": 28,
   "id": "93c38e49",
   "metadata": {
    "hidden": true
   },
   "outputs": [
    {
     "data": {
      "text/html": [
       "<div>\n",
       "<style scoped>\n",
       "    .dataframe tbody tr th:only-of-type {\n",
       "        vertical-align: middle;\n",
       "    }\n",
       "\n",
       "    .dataframe tbody tr th {\n",
       "        vertical-align: top;\n",
       "    }\n",
       "\n",
       "    .dataframe thead th {\n",
       "        text-align: right;\n",
       "    }\n",
       "</style>\n",
       "<table border=\"1\" class=\"dataframe\">\n",
       "  <thead>\n",
       "    <tr style=\"text-align: right;\">\n",
       "      <th></th>\n",
       "      <th>Last Updated</th>\n",
       "    </tr>\n",
       "  </thead>\n",
       "  <tbody>\n",
       "    <tr>\n",
       "      <th>8884</th>\n",
       "      <td>2017-10-07</td>\n",
       "    </tr>\n",
       "    <tr>\n",
       "      <th>8532</th>\n",
       "      <td>2018-08-02</td>\n",
       "    </tr>\n",
       "    <tr>\n",
       "      <th>324</th>\n",
       "      <td>2018-07-13</td>\n",
       "    </tr>\n",
       "    <tr>\n",
       "      <th>4541</th>\n",
       "      <td>2014-09-16</td>\n",
       "    </tr>\n",
       "    <tr>\n",
       "      <th>4636</th>\n",
       "      <td>2018-07-03</td>\n",
       "    </tr>\n",
       "    <tr>\n",
       "      <th>...</th>\n",
       "      <td>...</td>\n",
       "    </tr>\n",
       "    <tr>\n",
       "      <th>6334</th>\n",
       "      <td>2018-07-18</td>\n",
       "    </tr>\n",
       "    <tr>\n",
       "      <th>4362</th>\n",
       "      <td>2018-03-11</td>\n",
       "    </tr>\n",
       "    <tr>\n",
       "      <th>2575</th>\n",
       "      <td>2018-07-24</td>\n",
       "    </tr>\n",
       "    <tr>\n",
       "      <th>7559</th>\n",
       "      <td>2017-10-21</td>\n",
       "    </tr>\n",
       "    <tr>\n",
       "      <th>882</th>\n",
       "      <td>2018-07-14</td>\n",
       "    </tr>\n",
       "  </tbody>\n",
       "</table>\n",
       "<p>9659 rows × 1 columns</p>\n",
       "</div>"
      ],
      "text/plain": [
       "     Last Updated\n",
       "8884   2017-10-07\n",
       "8532   2018-08-02\n",
       "324    2018-07-13\n",
       "4541   2014-09-16\n",
       "4636   2018-07-03\n",
       "...           ...\n",
       "6334   2018-07-18\n",
       "4362   2018-03-11\n",
       "2575   2018-07-24\n",
       "7559   2017-10-21\n",
       "882    2018-07-14\n",
       "\n",
       "[9659 rows x 1 columns]"
      ]
     },
     "execution_count": 28,
     "metadata": {},
     "output_type": "execute_result"
    }
   ],
   "source": [
    "datetime_col = googleplaystore_df.select_dtypes(include=['datetime64'])\n",
    "datetime_col"
   ]
  },
  {
   "cell_type": "code",
   "execution_count": 29,
   "id": "beafd055",
   "metadata": {
    "hidden": true
   },
   "outputs": [
    {
     "data": {
      "text/html": [
       "<div>\n",
       "<style scoped>\n",
       "    .dataframe tbody tr th:only-of-type {\n",
       "        vertical-align: middle;\n",
       "    }\n",
       "\n",
       "    .dataframe tbody tr th {\n",
       "        vertical-align: top;\n",
       "    }\n",
       "\n",
       "    .dataframe thead th {\n",
       "        text-align: right;\n",
       "    }\n",
       "</style>\n",
       "<table border=\"1\" class=\"dataframe\">\n",
       "  <thead>\n",
       "    <tr style=\"text-align: right;\">\n",
       "      <th></th>\n",
       "      <th>missing_percent</th>\n",
       "    </tr>\n",
       "  </thead>\n",
       "  <tbody>\n",
       "    <tr>\n",
       "      <th>Last Updated</th>\n",
       "      <td>0.0</td>\n",
       "    </tr>\n",
       "  </tbody>\n",
       "</table>\n",
       "</div>"
      ],
      "text/plain": [
       "              missing_percent\n",
       "Last Updated              0.0"
      ]
     },
     "execution_count": 29,
     "metadata": {},
     "output_type": "execute_result"
    }
   ],
   "source": [
    "percent_missing = datetime_col.isnull().sum() * 100 / len(numeric_col)\n",
    "datetime_val = datetime_col.min(), datetime_col.max()\n",
    "Hmm = pd.DataFrame(percent_missing, columns = ['missing_percent'])\n",
    "Hmm"
   ]
  },
  {
   "cell_type": "code",
   "execution_count": 30,
   "id": "63911ce8",
   "metadata": {
    "hidden": true,
    "scrolled": true
   },
   "outputs": [
    {
     "data": {
      "text/html": [
       "<div>\n",
       "<style scoped>\n",
       "    .dataframe tbody tr th:only-of-type {\n",
       "        vertical-align: middle;\n",
       "    }\n",
       "\n",
       "    .dataframe tbody tr th {\n",
       "        vertical-align: top;\n",
       "    }\n",
       "\n",
       "    .dataframe thead th {\n",
       "        text-align: right;\n",
       "    }\n",
       "</style>\n",
       "<table border=\"1\" class=\"dataframe\">\n",
       "  <thead>\n",
       "    <tr style=\"text-align: right;\">\n",
       "      <th></th>\n",
       "      <th>Last Updated</th>\n",
       "    </tr>\n",
       "  </thead>\n",
       "  <tbody>\n",
       "    <tr>\n",
       "      <th>min</th>\n",
       "      <td>2010-05-21</td>\n",
       "    </tr>\n",
       "    <tr>\n",
       "      <th>max</th>\n",
       "      <td>2018-08-08</td>\n",
       "    </tr>\n",
       "  </tbody>\n",
       "</table>\n",
       "</div>"
      ],
      "text/plain": [
       "    Last Updated\n",
       "min   2010-05-21\n",
       "max   2018-08-08"
      ]
     },
     "execution_count": 30,
     "metadata": {},
     "output_type": "execute_result"
    }
   ],
   "source": [
    "Hmm = pd.DataFrame(datetime_val, index = ['min', 'max'])\n",
    "Hmm"
   ]
  },
  {
   "cell_type": "markdown",
   "id": "0a34ae7d",
   "metadata": {
    "hidden": true
   },
   "source": [
    "- Xem type các cột sau khi thực hiện các bước ở trên."
   ]
  },
  {
   "cell_type": "code",
   "execution_count": 31,
   "id": "6f8b675e",
   "metadata": {
    "hidden": true
   },
   "outputs": [
    {
     "data": {
      "text/plain": [
       "App                       object\n",
       "Category                  object\n",
       "Rating                   float64\n",
       "Reviews                   object\n",
       "Size                     float64\n",
       "Installs                   int64\n",
       "Type                      object\n",
       "Price                    float64\n",
       "Content Rating            object\n",
       "Genres                    object\n",
       "Last Updated      datetime64[ns]\n",
       "Current Ver               object\n",
       "Android Ver               object\n",
       "dtype: object"
      ]
     },
     "execution_count": 31,
     "metadata": {},
     "output_type": "execute_result"
    }
   ],
   "source": [
    "googleplaystore_df.dtypes"
   ]
  },
  {
   "cell_type": "markdown",
   "id": "1cdbb726",
   "metadata": {
    "hidden": true
   },
   "source": [
    "### Với mỗi cột có kiểu dữ liệu dạng phân loại (categorical), các giá trị được phân bố như thế nào?"
   ]
  },
  {
   "cell_type": "code",
   "execution_count": 32,
   "id": "a82f443d",
   "metadata": {
    "hidden": true,
    "scrolled": true
   },
   "outputs": [
    {
     "data": {
      "text/html": [
       "<div>\n",
       "<style scoped>\n",
       "    .dataframe tbody tr th:only-of-type {\n",
       "        vertical-align: middle;\n",
       "    }\n",
       "\n",
       "    .dataframe tbody tr th {\n",
       "        vertical-align: top;\n",
       "    }\n",
       "\n",
       "    .dataframe thead th {\n",
       "        text-align: right;\n",
       "    }\n",
       "</style>\n",
       "<table border=\"1\" class=\"dataframe\">\n",
       "  <thead>\n",
       "    <tr style=\"text-align: right;\">\n",
       "      <th></th>\n",
       "      <th>App</th>\n",
       "      <th>Category</th>\n",
       "      <th>Type</th>\n",
       "      <th>Content Rating</th>\n",
       "      <th>Genres</th>\n",
       "      <th>Current Ver</th>\n",
       "      <th>Android Ver</th>\n",
       "    </tr>\n",
       "  </thead>\n",
       "  <tbody>\n",
       "    <tr>\n",
       "      <th>missing_percent</th>\n",
       "      <td>0.0</td>\n",
       "      <td>0.0</td>\n",
       "      <td>0.010353</td>\n",
       "      <td>0.0</td>\n",
       "      <td>0.0</td>\n",
       "      <td>0.082824</td>\n",
       "      <td>0.020706</td>\n",
       "    </tr>\n",
       "    <tr>\n",
       "      <th>num_diff_vals</th>\n",
       "      <td>9659</td>\n",
       "      <td>33</td>\n",
       "      <td>2</td>\n",
       "      <td>6</td>\n",
       "      <td>118</td>\n",
       "      <td>2818</td>\n",
       "      <td>33</td>\n",
       "    </tr>\n",
       "    <tr>\n",
       "      <th>diff_vals</th>\n",
       "      <td>[\"i DT\" Fútbol. Todos Somos Técnicos., +Download 4 Instagram Twitter, - Free Comics - Comic Apps...</td>\n",
       "      <td>[SPORTS, SOCIAL, COMICS, TOOLS, COMMUNICATION, NEWS_AND_MAGAZINES, HEALTH_AND_FITNESS, FAMILY, B...</td>\n",
       "      <td>[Free, Paid]</td>\n",
       "      <td>[Everyone, Mature 17+, Everyone 10+, Teen, Unrated, Adults only 18+]</td>\n",
       "      <td>[Sports, Social, Comics, Tools, Communication, News &amp; Magazines, Health &amp; Fitness, Education, Bo...</td>\n",
       "      <td>[0.22, 5.03, 5.0.12, 1.1.06, 4.2.4, 1.0, 1.13.0, 1.9, 1.2, 2.1.4, 1.3, 2.2.2, DPSTATUS1.0.1, 2.0...</td>\n",
       "      <td>[4.1 and up, 5.0 and up, 1.5 and up, 4.2 and up, 4.4 and up, 2.3.3 and up, 2.2 and up, 2.1 and u...</td>\n",
       "    </tr>\n",
       "  </tbody>\n",
       "</table>\n",
       "</div>"
      ],
      "text/plain": [
       "                                                                                                                 App  \\\n",
       "missing_percent                                                                                                  0.0   \n",
       "num_diff_vals                                                                                                   9659   \n",
       "diff_vals        [\"i DT\" Fútbol. Todos Somos Técnicos., +Download 4 Instagram Twitter, - Free Comics - Comic Apps...   \n",
       "\n",
       "                                                                                                            Category  \\\n",
       "missing_percent                                                                                                  0.0   \n",
       "num_diff_vals                                                                                                     33   \n",
       "diff_vals        [SPORTS, SOCIAL, COMICS, TOOLS, COMMUNICATION, NEWS_AND_MAGAZINES, HEALTH_AND_FITNESS, FAMILY, B...   \n",
       "\n",
       "                         Type  \\\n",
       "missing_percent      0.010353   \n",
       "num_diff_vals               2   \n",
       "diff_vals        [Free, Paid]   \n",
       "\n",
       "                                                                       Content Rating  \\\n",
       "missing_percent                                                                   0.0   \n",
       "num_diff_vals                                                                       6   \n",
       "diff_vals        [Everyone, Mature 17+, Everyone 10+, Teen, Unrated, Adults only 18+]   \n",
       "\n",
       "                                                                                                              Genres  \\\n",
       "missing_percent                                                                                                  0.0   \n",
       "num_diff_vals                                                                                                    118   \n",
       "diff_vals        [Sports, Social, Comics, Tools, Communication, News & Magazines, Health & Fitness, Education, Bo...   \n",
       "\n",
       "                                                                                                         Current Ver  \\\n",
       "missing_percent                                                                                             0.082824   \n",
       "num_diff_vals                                                                                                   2818   \n",
       "diff_vals        [0.22, 5.03, 5.0.12, 1.1.06, 4.2.4, 1.0, 1.13.0, 1.9, 1.2, 2.1.4, 1.3, 2.2.2, DPSTATUS1.0.1, 2.0...   \n",
       "\n",
       "                                                                                                         Android Ver  \n",
       "missing_percent                                                                                             0.020706  \n",
       "num_diff_vals                                                                                                     33  \n",
       "diff_vals        [4.1 and up, 5.0 and up, 1.5 and up, 4.2 and up, 4.4 and up, 2.3.3 and up, 2.2 and up, 2.1 and u...  "
      ]
     },
     "execution_count": 32,
     "metadata": {},
     "output_type": "execute_result"
    }
   ],
   "source": [
    "def missing_percent(col):\n",
    "    return col.isna().mean() * 100\n",
    "\n",
    "def num_diff_vals(col):\n",
    "    return col.nunique()\n",
    "\n",
    "def diff_vals(col):\n",
    "    return col.dropna().unique()\n",
    "col_name = ['App', 'Category', 'Type', 'Content Rating', 'Genres', 'Current Ver', 'Android Ver']\n",
    "Hmm = googleplaystore_df[col_name].agg([missing_percent, num_diff_vals, diff_vals])\n",
    "pd.set_option(\"max_colwidth\", 100)\n",
    "Hmm"
   ]
  },
  {
   "cell_type": "markdown",
   "id": "840014b8",
   "metadata": {},
   "source": [
    "## IV. Đưa ra các câu hỏi có ý nghĩa cần trả lời"
   ]
  },
  {
   "cell_type": "markdown",
   "id": "7808ab94",
   "metadata": {
    "heading_collapsed": true
   },
   "source": [
    "### 1 : Tìm các Genres phổ biến"
   ]
  },
  {
   "cell_type": "markdown",
   "id": "4813af3f",
   "metadata": {
    "heading_collapsed": true
   },
   "source": [
    "###  2 : Tìm ứng dụng để chỉnh sửa video."
   ]
  },
  {
   "cell_type": "markdown",
   "id": "d939a585",
   "metadata": {
    "hidden": true
   },
   "source": [
    "- Giả sử là đang muốn tìm một app androi để chỉnh sửa video để đăng lên mjang xã hội kiếm view. Ta có được dữ liệu ở, hãy gợi ý app có chức năng như trên và app này dễ sử dụng, đáp ứng được nhu cầu cơ bản."
   ]
  },
  {
   "cell_type": "markdown",
   "id": "730de939",
   "metadata": {},
   "source": [
    "## V. Tiền xử lý + phân tích dữ liệu để trả lời cho từng câu hỏi"
   ]
  },
  {
   "cell_type": "markdown",
   "id": "ac36b79f",
   "metadata": {},
   "source": [
    ">Genres của ứng dụng có thể bao gồm nhiều loại khác nhau và được chia cắt bởi dấu chấm phẩy. Bây giờ ta sẽ tìm genres thật sự"
   ]
  },
  {
   "cell_type": "code",
   "execution_count": 33,
   "id": "4dd87e82",
   "metadata": {},
   "outputs": [
    {
     "data": {
      "text/plain": [
       "array(['Sports', 'Social', 'Comics', 'Tools', 'Communication',\n",
       "       'News & Magazines', 'Health & Fitness', 'Education',\n",
       "       'Books & Reference', 'Puzzle', 'Lifestyle', 'Business', 'Shopping',\n",
       "       'Medical', 'Board', 'Finance', 'Action', 'Personalization',\n",
       "       'Casual', 'Arcade', 'Photography', 'Travel & Local',\n",
       "       'Entertainment', 'Dating', 'Productivity', 'Art & Design',\n",
       "       'Simulation', 'Food & Drink', 'Video Players & Editors', 'Racing',\n",
       "       'Adventure', 'House & Home', 'Maps & Navigation', 'Events',\n",
       "       'Educational', 'Casino', 'Card', 'Auto & Vehicles', 'Weather',\n",
       "       'Beauty', 'Strategy', 'Music', 'Libraries & Demo', 'Role Playing',\n",
       "       'Trivia', 'Creativity', 'Parenting', 'Action & Adventure',\n",
       "       'Brain Games', 'Music & Video', 'Pretend Play', 'Word',\n",
       "       'Music & Audio'], dtype=object)"
      ]
     },
     "execution_count": 33,
     "metadata": {},
     "output_type": "execute_result"
    }
   ],
   "source": [
    "s=googleplaystore_df['Genres'].str.split(';')\n",
    "s=s.explode()\n",
    "Genres=s.unique()\n",
    "Genres"
   ]
  },
  {
   "cell_type": "markdown",
   "id": "0f99af9b",
   "metadata": {
    "heading_collapsed": true
   },
   "source": [
    "### 1. Tìm các Genres phổ biến"
   ]
  },
  {
   "cell_type": "code",
   "execution_count": 34,
   "id": "e3898d56",
   "metadata": {
    "hidden": true
   },
   "outputs": [],
   "source": [
    "Genres_rate=Genres"
   ]
  },
  {
   "cell_type": "code",
   "execution_count": 35,
   "id": "04d95d9c",
   "metadata": {
    "hidden": true
   },
   "outputs": [],
   "source": [
    "#Install_count = []\n",
    "#for person in Genres_rate:\n",
    "#    Install_count.append(googleplaystore_df[googleplaystore_df['Genres'] == person]['Installs'].sum())"
   ]
  },
  {
   "cell_type": "code",
   "execution_count": 36,
   "id": "6ba6e296",
   "metadata": {
    "hidden": true
   },
   "outputs": [],
   "source": [
    "Install_count = []\n",
    "for person in Genres_rate:\n",
    "    Install_count.append(googleplaystore_df[googleplaystore_df['Genres'].str.find(person) != -1 ]['Installs'].sum())"
   ]
  },
  {
   "cell_type": "code",
   "execution_count": 37,
   "id": "a956d6ed",
   "metadata": {
    "hidden": true
   },
   "outputs": [
    {
     "data": {
      "text/html": [
       "<div>\n",
       "<style scoped>\n",
       "    .dataframe tbody tr th:only-of-type {\n",
       "        vertical-align: middle;\n",
       "    }\n",
       "\n",
       "    .dataframe tbody tr th {\n",
       "        vertical-align: top;\n",
       "    }\n",
       "\n",
       "    .dataframe thead th {\n",
       "        text-align: right;\n",
       "    }\n",
       "</style>\n",
       "<table border=\"1\" class=\"dataframe\">\n",
       "  <thead>\n",
       "    <tr style=\"text-align: right;\">\n",
       "      <th></th>\n",
       "      <th>Install_count</th>\n",
       "    </tr>\n",
       "  </thead>\n",
       "  <tbody>\n",
       "    <tr>\n",
       "      <th>Communication</th>\n",
       "      <td>11039776251</td>\n",
       "    </tr>\n",
       "    <tr>\n",
       "      <th>Tools</th>\n",
       "      <td>8002771915</td>\n",
       "    </tr>\n",
       "    <tr>\n",
       "      <th>Productivity</th>\n",
       "      <td>5788091369</td>\n",
       "    </tr>\n",
       "    <tr>\n",
       "      <th>Social</th>\n",
       "      <td>5487867902</td>\n",
       "    </tr>\n",
       "    <tr>\n",
       "      <th>Photography</th>\n",
       "      <td>4649147655</td>\n",
       "    </tr>\n",
       "    <tr>\n",
       "      <th>Action</th>\n",
       "      <td>4175945691</td>\n",
       "    </tr>\n",
       "    <tr>\n",
       "      <th>Video Players &amp; Editors</th>\n",
       "      <td>3936902720</td>\n",
       "    </tr>\n",
       "    <tr>\n",
       "      <th>Arcade</th>\n",
       "      <td>3801339156</td>\n",
       "    </tr>\n",
       "    <tr>\n",
       "      <th>Casual</th>\n",
       "      <td>3415213740</td>\n",
       "    </tr>\n",
       "    <tr>\n",
       "      <th>Entertainment</th>\n",
       "      <td>3160114684</td>\n",
       "    </tr>\n",
       "    <tr>\n",
       "      <th>Travel &amp; Local</th>\n",
       "      <td>2894887146</td>\n",
       "    </tr>\n",
       "    <tr>\n",
       "      <th>News &amp; Magazines</th>\n",
       "      <td>2369217760</td>\n",
       "    </tr>\n",
       "    <tr>\n",
       "      <th>Books &amp; Reference</th>\n",
       "      <td>1665980676</td>\n",
       "    </tr>\n",
       "    <tr>\n",
       "      <th>Racing</th>\n",
       "      <td>1533507320</td>\n",
       "    </tr>\n",
       "    <tr>\n",
       "      <th>Personalization</th>\n",
       "      <td>1532494782</td>\n",
       "    </tr>\n",
       "    <tr>\n",
       "      <th>Sports</th>\n",
       "      <td>1423174498</td>\n",
       "    </tr>\n",
       "    <tr>\n",
       "      <th>Shopping</th>\n",
       "      <td>1400348785</td>\n",
       "    </tr>\n",
       "    <tr>\n",
       "      <th>Health &amp; Fitness</th>\n",
       "      <td>1135122512</td>\n",
       "    </tr>\n",
       "    <tr>\n",
       "      <th>Puzzle</th>\n",
       "      <td>1029486811</td>\n",
       "    </tr>\n",
       "    <tr>\n",
       "      <th>Adventure</th>\n",
       "      <td>999701821</td>\n",
       "    </tr>\n",
       "    <tr>\n",
       "      <th>Strategy</th>\n",
       "      <td>916787605</td>\n",
       "    </tr>\n",
       "    <tr>\n",
       "      <th>Education</th>\n",
       "      <td>709453374</td>\n",
       "    </tr>\n",
       "    <tr>\n",
       "      <th>Action &amp; Adventure</th>\n",
       "      <td>692906501</td>\n",
       "    </tr>\n",
       "    <tr>\n",
       "      <th>Business</th>\n",
       "      <td>692164865</td>\n",
       "    </tr>\n",
       "    <tr>\n",
       "      <th>Simulation</th>\n",
       "      <td>665308320</td>\n",
       "    </tr>\n",
       "    <tr>\n",
       "      <th>Lifestyle</th>\n",
       "      <td>503923539</td>\n",
       "    </tr>\n",
       "    <tr>\n",
       "      <th>Maps &amp; Navigation</th>\n",
       "      <td>503281890</td>\n",
       "    </tr>\n",
       "    <tr>\n",
       "      <th>Finance</th>\n",
       "      <td>455348734</td>\n",
       "    </tr>\n",
       "    <tr>\n",
       "      <th>Role Playing</th>\n",
       "      <td>383440770</td>\n",
       "    </tr>\n",
       "    <tr>\n",
       "      <th>Weather</th>\n",
       "      <td>361100520</td>\n",
       "    </tr>\n",
       "    <tr>\n",
       "      <th>Music</th>\n",
       "      <td>314731500</td>\n",
       "    </tr>\n",
       "    <tr>\n",
       "      <th>Pretend Play</th>\n",
       "      <td>271813200</td>\n",
       "    </tr>\n",
       "    <tr>\n",
       "      <th>Brain Games</th>\n",
       "      <td>237204100</td>\n",
       "    </tr>\n",
       "    <tr>\n",
       "      <th>Educational</th>\n",
       "      <td>234200966</td>\n",
       "    </tr>\n",
       "    <tr>\n",
       "      <th>Food &amp; Drink</th>\n",
       "      <td>211798751</td>\n",
       "    </tr>\n",
       "    <tr>\n",
       "      <th>Board</th>\n",
       "      <td>170914410</td>\n",
       "    </tr>\n",
       "    <tr>\n",
       "      <th>Word</th>\n",
       "      <td>169172550</td>\n",
       "    </tr>\n",
       "    <tr>\n",
       "      <th>Card</th>\n",
       "      <td>163826100</td>\n",
       "    </tr>\n",
       "    <tr>\n",
       "      <th>Music &amp; Video</th>\n",
       "      <td>144611000</td>\n",
       "    </tr>\n",
       "    <tr>\n",
       "      <th>Dating</th>\n",
       "      <td>140926107</td>\n",
       "    </tr>\n",
       "    <tr>\n",
       "      <th>Casino</th>\n",
       "      <td>130260700</td>\n",
       "    </tr>\n",
       "    <tr>\n",
       "      <th>Trivia</th>\n",
       "      <td>128606470</td>\n",
       "    </tr>\n",
       "    <tr>\n",
       "      <th>Art &amp; Design</th>\n",
       "      <td>114838100</td>\n",
       "    </tr>\n",
       "    <tr>\n",
       "      <th>House &amp; Home</th>\n",
       "      <td>97202461</td>\n",
       "    </tr>\n",
       "    <tr>\n",
       "      <th>Creativity</th>\n",
       "      <td>72415600</td>\n",
       "    </tr>\n",
       "    <tr>\n",
       "      <th>Auto &amp; Vehicles</th>\n",
       "      <td>53130211</td>\n",
       "    </tr>\n",
       "    <tr>\n",
       "      <th>Libraries &amp; Demo</th>\n",
       "      <td>52995910</td>\n",
       "    </tr>\n",
       "    <tr>\n",
       "      <th>Comics</th>\n",
       "      <td>44981150</td>\n",
       "    </tr>\n",
       "    <tr>\n",
       "      <th>Medical</th>\n",
       "      <td>34204077</td>\n",
       "    </tr>\n",
       "    <tr>\n",
       "      <th>Parenting</th>\n",
       "      <td>31521110</td>\n",
       "    </tr>\n",
       "    <tr>\n",
       "      <th>Beauty</th>\n",
       "      <td>27197050</td>\n",
       "    </tr>\n",
       "    <tr>\n",
       "      <th>Events</th>\n",
       "      <td>15973161</td>\n",
       "    </tr>\n",
       "    <tr>\n",
       "      <th>Music &amp; Audio</th>\n",
       "      <td>500000</td>\n",
       "    </tr>\n",
       "  </tbody>\n",
       "</table>\n",
       "</div>"
      ],
      "text/plain": [
       "                         Install_count\n",
       "Communication              11039776251\n",
       "Tools                       8002771915\n",
       "Productivity                5788091369\n",
       "Social                      5487867902\n",
       "Photography                 4649147655\n",
       "Action                      4175945691\n",
       "Video Players & Editors     3936902720\n",
       "Arcade                      3801339156\n",
       "Casual                      3415213740\n",
       "Entertainment               3160114684\n",
       "Travel & Local              2894887146\n",
       "News & Magazines            2369217760\n",
       "Books & Reference           1665980676\n",
       "Racing                      1533507320\n",
       "Personalization             1532494782\n",
       "Sports                      1423174498\n",
       "Shopping                    1400348785\n",
       "Health & Fitness            1135122512\n",
       "Puzzle                      1029486811\n",
       "Adventure                    999701821\n",
       "Strategy                     916787605\n",
       "Education                    709453374\n",
       "Action & Adventure           692906501\n",
       "Business                     692164865\n",
       "Simulation                   665308320\n",
       "Lifestyle                    503923539\n",
       "Maps & Navigation            503281890\n",
       "Finance                      455348734\n",
       "Role Playing                 383440770\n",
       "Weather                      361100520\n",
       "Music                        314731500\n",
       "Pretend Play                 271813200\n",
       "Brain Games                  237204100\n",
       "Educational                  234200966\n",
       "Food & Drink                 211798751\n",
       "Board                        170914410\n",
       "Word                         169172550\n",
       "Card                         163826100\n",
       "Music & Video                144611000\n",
       "Dating                       140926107\n",
       "Casino                       130260700\n",
       "Trivia                       128606470\n",
       "Art & Design                 114838100\n",
       "House & Home                  97202461\n",
       "Creativity                    72415600\n",
       "Auto & Vehicles               53130211\n",
       "Libraries & Demo              52995910\n",
       "Comics                        44981150\n",
       "Medical                       34204077\n",
       "Parenting                     31521110\n",
       "Beauty                        27197050\n",
       "Events                        15973161\n",
       "Music & Audio                   500000"
      ]
     },
     "execution_count": 37,
     "metadata": {},
     "output_type": "execute_result"
    }
   ],
   "source": [
    "Genres_intstall = pd.DataFrame(data = Install_count, index = Genres_rate)\n",
    "Genres_intstall = Genres_intstall.rename(columns = {0 : 'Install_count'})\n",
    "Genres_intstall.sort_values(by='Install_count',ascending=False)"
   ]
  },
  {
   "cell_type": "markdown",
   "id": "8eee7494",
   "metadata": {
    "hidden": true
   },
   "source": [
    "Giờ ta sẽ tìm 20 genres cao nhất"
   ]
  },
  {
   "cell_type": "code",
   "execution_count": 38,
   "id": "e7aa499b",
   "metadata": {
    "hidden": true
   },
   "outputs": [],
   "source": [
    "Gen_in_graph = Genres_intstall.nlargest(20, columns = 'Install_count')"
   ]
  },
  {
   "cell_type": "markdown",
   "id": "9571e430",
   "metadata": {
    "hidden": true
   },
   "source": [
    "Ý nghĩa câu hỏi : Giúp ta biết được trend của người dùng, từ đó phần nào giúp định hướng cách tạo ra 1 app có nhiều lượt tải về"
   ]
  },
  {
   "cell_type": "code",
   "execution_count": 52,
   "id": "f9855cef",
   "metadata": {
    "hidden": true
   },
   "outputs": [
    {
     "data": {
      "image/png": "[encoded data removed]",
      "text/plain": [
       "<Figure size 432x288 with 1 Axes>"
      ]
     },
     "metadata": {
      "needs_background": "light"
     },
     "output_type": "display_data"
    }
   ],
   "source": [
    "ax = Gen_in_graph.plot.barh()  \n",
    "ax.invert_yaxis()"
   ]
  },
  {
   "cell_type": "code",
   "execution_count": null,
   "id": "0ef37992",
   "metadata": {
    "hidden": true
   },
   "outputs": [],
   "source": []
  },
  {
   "cell_type": "markdown",
   "id": "31f379a6",
   "metadata": {
    "heading_collapsed": true
   },
   "source": [
    "### 2.Tìm ứng dụng để chỉnh sửa video"
   ]
  },
  {
   "cell_type": "markdown",
   "id": "430ba18e",
   "metadata": {
    "hidden": true
   },
   "source": [
    "_Ứng dụng điện thoại dễ sử dụng đáp ứng được nhu cầu cơ bản thì sẽ được người dùng đánh giá cao thể hiện ở lượt ratings và  được nhiều người sử dụng thể hiện ở lượt install._\n"
   ]
  },
  {
   "cell_type": "markdown",
   "id": "ac9e9101",
   "metadata": {
    "hidden": true
   },
   "source": [
    "#### 2.1 Tiền xử lí dữ liệu"
   ]
  },
  {
   "cell_type": "markdown",
   "id": "669c0e9b",
   "metadata": {
    "hidden": true
   },
   "source": [
    "- Quan sát giá trị có thể có ở hai cột Type và Price, Type co chứa giá trị nan còn Price thì không do đó ta dựa vào cột Price để xem app đó cỏ phải là trả phí hay không. Ta tiến hành xét các dòng có giá trị là nan và xét cột Price.Nếu lớn hơn 0 thì app đó là trả phí. Ngược lại thì free."
   ]
  },
  {
   "cell_type": "code",
   "execution_count": 40,
   "id": "a9dcace0",
   "metadata": {
    "hidden": true
   },
   "outputs": [
    {
     "data": {
      "text/plain": [
       "array(['Free', 'Paid', nan], dtype=object)"
      ]
     },
     "execution_count": 40,
     "metadata": {},
     "output_type": "execute_result"
    }
   ],
   "source": [
    "googleplaystore_df['Type'].unique()"
   ]
  },
  {
   "cell_type": "code",
   "execution_count": 41,
   "id": "f17e4f86",
   "metadata": {
    "hidden": true,
    "scrolled": false
   },
   "outputs": [
    {
     "data": {
      "text/plain": [
       "array([  0.  ,   1.49,   0.99,   3.08,  16.99,   9.99,  33.99,   2.  ,\n",
       "         3.04,   8.99,   1.99,   2.49,   5.  ,   4.99,   2.99,   7.99,\n",
       "        29.99,   3.99,  19.9 ,   2.6 ,   6.49,   1.29,  24.99,  13.99,\n",
       "         4.49,  14.99,   1.5 ,   1.  ,   3.9 ,   1.75,   5.99, 109.99,\n",
       "         4.8 ,   3.49,  11.99,   2.59,  14.  ,  10.99,   5.49,   6.99,\n",
       "         3.95,  12.99,   7.49,  19.99,   3.28,  46.99,  28.99, 200.  ,\n",
       "         3.61,   4.77, 394.99,  30.99,   3.88,  25.99,   8.49, 399.99,\n",
       "       389.99,  37.99,  18.99, 379.99, 299.99, 400.  ,   1.26,  15.46,\n",
       "        39.99,  74.99,  89.99,   1.61,   1.59,   9.  ,  15.99,   1.7 ,\n",
       "         3.02,   4.6 ,  10.  ,   1.76,   4.84,   4.85,   4.59,   2.95,\n",
       "        17.99,   1.97,  79.99,   2.9 ,   1.04,   2.56,   2.5 ,  19.4 ,\n",
       "         1.96, 154.99,   4.29,   1.2 ])"
      ]
     },
     "execution_count": 41,
     "metadata": {},
     "output_type": "execute_result"
    }
   ],
   "source": [
    "googleplaystore_df.Price.unique()"
   ]
  },
  {
   "cell_type": "markdown",
   "id": "e499527b",
   "metadata": {
    "hidden": true
   },
   "source": [
    "- Quan sát giá trị có thể có ở hai cột Type và Price, Type co chứa giá trị nan còn Price thì không do đó ta dựa vào cột Price để xem app đó cỏ phải là trả phí hay không. Ta tiến hành xét các dòng có giá trị là nan và xét cột Price.Nếu lớn hơn 0 thì app đó là trả phí. Ngược lại thì free."
   ]
  },
  {
   "cell_type": "code",
   "execution_count": 42,
   "id": "21d69dc9",
   "metadata": {
    "hidden": true
   },
   "outputs": [],
   "source": [
    "def FillType(s):\n",
    "    if(s.Price>0):\n",
    "        return 'Paid'\n",
    "    return 'Free'"
   ]
  },
  {
   "cell_type": "code",
   "execution_count": 43,
   "id": "f9cff387",
   "metadata": {
    "hidden": true
   },
   "outputs": [],
   "source": [
    "# Áp dụng lên từng dòng\n",
    "googleplaystore_df.Type=googleplaystore_df.apply(lambda s: FillType(s),axis=1)"
   ]
  },
  {
   "cell_type": "code",
   "execution_count": 44,
   "id": "58682758",
   "metadata": {
    "hidden": true,
    "scrolled": true
   },
   "outputs": [
    {
     "data": {
      "text/plain": [
       "array(['Free', 'Paid'], dtype=object)"
      ]
     },
     "execution_count": 44,
     "metadata": {},
     "output_type": "execute_result"
    }
   ],
   "source": [
    "#Kiểm tra\n",
    "googleplaystore_df.Type.unique()"
   ]
  },
  {
   "cell_type": "markdown",
   "id": "7968bd24",
   "metadata": {
    "hidden": true
   },
   "source": [
    "#### Khai thác dữ liệu để tìm câu trả lời"
   ]
  },
  {
   "cell_type": "markdown",
   "id": "4966ee4e",
   "metadata": {
    "hidden": true
   },
   "source": [
    "- Bây giờ ta bắt đầu tìm app phù hợp.\n",
    "    - genres_app='Video Players & Editors'.\n",
    "    - lượt tải mỗi ít nhất 100k và tating phải đạt trên 3.0"
   ]
  },
  {
   "cell_type": "code",
   "execution_count": 45,
   "id": "b0d79ce1",
   "metadata": {
    "hidden": true
   },
   "outputs": [
    {
     "data": {
      "text/html": [
       "<div>\n",
       "<style scoped>\n",
       "    .dataframe tbody tr th:only-of-type {\n",
       "        vertical-align: middle;\n",
       "    }\n",
       "\n",
       "    .dataframe tbody tr th {\n",
       "        vertical-align: top;\n",
       "    }\n",
       "\n",
       "    .dataframe thead th {\n",
       "        text-align: right;\n",
       "    }\n",
       "</style>\n",
       "<table border=\"1\" class=\"dataframe\">\n",
       "  <thead>\n",
       "    <tr style=\"text-align: right;\">\n",
       "      <th></th>\n",
       "      <th>App</th>\n",
       "      <th>Category</th>\n",
       "      <th>Rating</th>\n",
       "      <th>Reviews</th>\n",
       "      <th>Size</th>\n",
       "      <th>Installs</th>\n",
       "      <th>Type</th>\n",
       "      <th>Price</th>\n",
       "      <th>Content Rating</th>\n",
       "      <th>Genres</th>\n",
       "      <th>Last Updated</th>\n",
       "      <th>Current Ver</th>\n",
       "      <th>Android Ver</th>\n",
       "    </tr>\n",
       "  </thead>\n",
       "  <tbody>\n",
       "    <tr>\n",
       "      <th>3681</th>\n",
       "      <td>HD Movie Video Player</td>\n",
       "      <td>VIDEO_PLAYERS</td>\n",
       "      <td>4.5</td>\n",
       "      <td>18699</td>\n",
       "      <td>4198.4</td>\n",
       "      <td>1000000</td>\n",
       "      <td>Free</td>\n",
       "      <td>0.0</td>\n",
       "      <td>Everyone</td>\n",
       "      <td>Video Players &amp; Editors</td>\n",
       "      <td>2018-03-27</td>\n",
       "      <td>1.0</td>\n",
       "      <td>4.0.3 and up</td>\n",
       "    </tr>\n",
       "    <tr>\n",
       "      <th>3710</th>\n",
       "      <td>amazer - Global Kpop Video Community</td>\n",
       "      <td>VIDEO_PLAYERS</td>\n",
       "      <td>4.3</td>\n",
       "      <td>1215</td>\n",
       "      <td>23552.0</td>\n",
       "      <td>100000</td>\n",
       "      <td>Free</td>\n",
       "      <td>0.0</td>\n",
       "      <td>Everyone 10+</td>\n",
       "      <td>Video Players &amp; Editors</td>\n",
       "      <td>2018-07-20</td>\n",
       "      <td>1.5.4</td>\n",
       "      <td>4.1 and up</td>\n",
       "    </tr>\n",
       "    <tr>\n",
       "      <th>3683</th>\n",
       "      <td>Video Editor,Crop Video,Movie Video,Music,Effects</td>\n",
       "      <td>VIDEO_PLAYERS</td>\n",
       "      <td>4.7</td>\n",
       "      <td>53006</td>\n",
       "      <td>45056.0</td>\n",
       "      <td>1000000</td>\n",
       "      <td>Free</td>\n",
       "      <td>0.0</td>\n",
       "      <td>Everyone</td>\n",
       "      <td>Video Players &amp; Editors</td>\n",
       "      <td>2018-08-03</td>\n",
       "      <td>1.5.1</td>\n",
       "      <td>4.4 and up</td>\n",
       "    </tr>\n",
       "    <tr>\n",
       "      <th>3670</th>\n",
       "      <td>Motorola FM Radio</td>\n",
       "      <td>VIDEO_PLAYERS</td>\n",
       "      <td>3.9</td>\n",
       "      <td>54807</td>\n",
       "      <td>20880.9</td>\n",
       "      <td>100000000</td>\n",
       "      <td>Free</td>\n",
       "      <td>0.0</td>\n",
       "      <td>Everyone</td>\n",
       "      <td>Video Players &amp; Editors</td>\n",
       "      <td>2018-05-02</td>\n",
       "      <td>Varies with device</td>\n",
       "      <td>Varies with device</td>\n",
       "    </tr>\n",
       "    <tr>\n",
       "      <th>9729</th>\n",
       "      <td>Naruto Shippuden - Watch Free!</td>\n",
       "      <td>VIDEO_PLAYERS</td>\n",
       "      <td>3.9</td>\n",
       "      <td>141515</td>\n",
       "      <td>5836.8</td>\n",
       "      <td>10000000</td>\n",
       "      <td>Free</td>\n",
       "      <td>0.0</td>\n",
       "      <td>Teen</td>\n",
       "      <td>Video Players &amp; Editors</td>\n",
       "      <td>2014-04-23</td>\n",
       "      <td>0.6.0</td>\n",
       "      <td>2.3 and up</td>\n",
       "    </tr>\n",
       "  </tbody>\n",
       "</table>\n",
       "</div>"
      ],
      "text/plain": [
       "                                                    App       Category  \\\n",
       "3681                              HD Movie Video Player  VIDEO_PLAYERS   \n",
       "3710               amazer - Global Kpop Video Community  VIDEO_PLAYERS   \n",
       "3683  Video Editor,Crop Video,Movie Video,Music,Effects  VIDEO_PLAYERS   \n",
       "3670                                  Motorola FM Radio  VIDEO_PLAYERS   \n",
       "9729                     Naruto Shippuden - Watch Free!  VIDEO_PLAYERS   \n",
       "\n",
       "      Rating Reviews     Size   Installs  Type  Price Content Rating  \\\n",
       "3681     4.5   18699   4198.4    1000000  Free    0.0       Everyone   \n",
       "3710     4.3    1215  23552.0     100000  Free    0.0   Everyone 10+   \n",
       "3683     4.7   53006  45056.0    1000000  Free    0.0       Everyone   \n",
       "3670     3.9   54807  20880.9  100000000  Free    0.0       Everyone   \n",
       "9729     3.9  141515   5836.8   10000000  Free    0.0           Teen   \n",
       "\n",
       "                       Genres Last Updated         Current Ver  \\\n",
       "3681  Video Players & Editors   2018-03-27                 1.0   \n",
       "3710  Video Players & Editors   2018-07-20               1.5.4   \n",
       "3683  Video Players & Editors   2018-08-03               1.5.1   \n",
       "3670  Video Players & Editors   2018-05-02  Varies with device   \n",
       "9729  Video Players & Editors   2014-04-23               0.6.0   \n",
       "\n",
       "             Android Ver  \n",
       "3681        4.0.3 and up  \n",
       "3710          4.1 and up  \n",
       "3683          4.4 and up  \n",
       "3670  Varies with device  \n",
       "9729          2.3 and up  "
      ]
     },
     "execution_count": 45,
     "metadata": {},
     "output_type": "execute_result"
    }
   ],
   "source": [
    "genres_app='Video Players & Editors'\n",
    "df=googleplaystore_df.copy()\n",
    "df=df[(df.Type==\"Free\") & (df.Genres.str.find(genres_app)!= -1)&(df.Installs >=100000)&(df.Rating >3.0)]\n",
    "df.reset_index().drop(columns='index')\n",
    "df.sample(5)"
   ]
  },
  {
   "cell_type": "markdown",
   "id": "7cde1733",
   "metadata": {
    "hidden": true
   },
   "source": [
    "- Bây giờ app tốt thỏa cả hai tiêu chí vừa ratings cao và vừa lượt tải cao. "
   ]
  },
  {
   "cell_type": "code",
   "execution_count": 46,
   "id": "52f04b97",
   "metadata": {
    "hidden": true,
    "scrolled": true
   },
   "outputs": [
    {
     "data": {
      "text/html": [
       "<div>\n",
       "<style scoped>\n",
       "    .dataframe tbody tr th:only-of-type {\n",
       "        vertical-align: middle;\n",
       "    }\n",
       "\n",
       "    .dataframe tbody tr th {\n",
       "        vertical-align: top;\n",
       "    }\n",
       "\n",
       "    .dataframe thead th {\n",
       "        text-align: right;\n",
       "    }\n",
       "</style>\n",
       "<table border=\"1\" class=\"dataframe\">\n",
       "  <thead>\n",
       "    <tr style=\"text-align: right;\">\n",
       "      <th></th>\n",
       "      <th>App</th>\n",
       "      <th>Category</th>\n",
       "      <th>Rating</th>\n",
       "      <th>Reviews</th>\n",
       "      <th>Size</th>\n",
       "      <th>Installs</th>\n",
       "      <th>Type</th>\n",
       "      <th>Price</th>\n",
       "      <th>Content Rating</th>\n",
       "      <th>Genres</th>\n",
       "      <th>Last Updated</th>\n",
       "      <th>Current Ver</th>\n",
       "      <th>Android Ver</th>\n",
       "    </tr>\n",
       "  </thead>\n",
       "  <tbody>\n",
       "    <tr>\n",
       "      <th>4032</th>\n",
       "      <td>Dubsmash</td>\n",
       "      <td>VIDEO_PLAYERS</td>\n",
       "      <td>4.2</td>\n",
       "      <td>1971777</td>\n",
       "      <td>29696.0</td>\n",
       "      <td>100000000</td>\n",
       "      <td>Free</td>\n",
       "      <td>0.0</td>\n",
       "      <td>Teen</td>\n",
       "      <td>Video Players &amp; Editors</td>\n",
       "      <td>2018-05-11</td>\n",
       "      <td>2.35.8</td>\n",
       "      <td>4.1 and up</td>\n",
       "    </tr>\n",
       "    <tr>\n",
       "      <th>4696</th>\n",
       "      <td>VideoShow-Video Editor, Video Maker, Beauty Camera</td>\n",
       "      <td>VIDEO_PLAYERS</td>\n",
       "      <td>4.6</td>\n",
       "      <td>4016834</td>\n",
       "      <td>20880.9</td>\n",
       "      <td>100000000</td>\n",
       "      <td>Free</td>\n",
       "      <td>0.0</td>\n",
       "      <td>Everyone</td>\n",
       "      <td>Video Players &amp; Editors</td>\n",
       "      <td>2018-07-23</td>\n",
       "      <td>Varies with device</td>\n",
       "      <td>Varies with device</td>\n",
       "    </tr>\n",
       "    <tr>\n",
       "      <th>3711</th>\n",
       "      <td>MX Player</td>\n",
       "      <td>VIDEO_PLAYERS</td>\n",
       "      <td>4.5</td>\n",
       "      <td>6474672</td>\n",
       "      <td>20880.9</td>\n",
       "      <td>500000000</td>\n",
       "      <td>Free</td>\n",
       "      <td>0.0</td>\n",
       "      <td>Everyone</td>\n",
       "      <td>Video Players &amp; Editors</td>\n",
       "      <td>2018-08-06</td>\n",
       "      <td>Varies with device</td>\n",
       "      <td>Varies with device</td>\n",
       "    </tr>\n",
       "    <tr>\n",
       "      <th>3687</th>\n",
       "      <td>Google Play Movies &amp; TV</td>\n",
       "      <td>VIDEO_PLAYERS</td>\n",
       "      <td>3.7</td>\n",
       "      <td>906384</td>\n",
       "      <td>20880.9</td>\n",
       "      <td>1000000000</td>\n",
       "      <td>Free</td>\n",
       "      <td>0.0</td>\n",
       "      <td>Teen</td>\n",
       "      <td>Video Players &amp; Editors</td>\n",
       "      <td>2018-08-06</td>\n",
       "      <td>Varies with device</td>\n",
       "      <td>Varies with device</td>\n",
       "    </tr>\n",
       "    <tr>\n",
       "      <th>3665</th>\n",
       "      <td>YouTube</td>\n",
       "      <td>VIDEO_PLAYERS</td>\n",
       "      <td>4.3</td>\n",
       "      <td>25655305</td>\n",
       "      <td>20880.9</td>\n",
       "      <td>1000000000</td>\n",
       "      <td>Free</td>\n",
       "      <td>0.0</td>\n",
       "      <td>Teen</td>\n",
       "      <td>Video Players &amp; Editors</td>\n",
       "      <td>2018-08-02</td>\n",
       "      <td>Varies with device</td>\n",
       "      <td>Varies with device</td>\n",
       "    </tr>\n",
       "  </tbody>\n",
       "</table>\n",
       "</div>"
      ],
      "text/plain": [
       "                                                     App       Category  \\\n",
       "4032                                            Dubsmash  VIDEO_PLAYERS   \n",
       "4696  VideoShow-Video Editor, Video Maker, Beauty Camera  VIDEO_PLAYERS   \n",
       "3711                                           MX Player  VIDEO_PLAYERS   \n",
       "3687                             Google Play Movies & TV  VIDEO_PLAYERS   \n",
       "3665                                             YouTube  VIDEO_PLAYERS   \n",
       "\n",
       "      Rating   Reviews     Size    Installs  Type  Price Content Rating  \\\n",
       "4032     4.2   1971777  29696.0   100000000  Free    0.0           Teen   \n",
       "4696     4.6   4016834  20880.9   100000000  Free    0.0       Everyone   \n",
       "3711     4.5   6474672  20880.9   500000000  Free    0.0       Everyone   \n",
       "3687     3.7    906384  20880.9  1000000000  Free    0.0           Teen   \n",
       "3665     4.3  25655305  20880.9  1000000000  Free    0.0           Teen   \n",
       "\n",
       "                       Genres Last Updated         Current Ver  \\\n",
       "4032  Video Players & Editors   2018-05-11              2.35.8   \n",
       "4696  Video Players & Editors   2018-07-23  Varies with device   \n",
       "3711  Video Players & Editors   2018-08-06  Varies with device   \n",
       "3687  Video Players & Editors   2018-08-06  Varies with device   \n",
       "3665  Video Players & Editors   2018-08-02  Varies with device   \n",
       "\n",
       "             Android Ver  \n",
       "4032          4.1 and up  \n",
       "4696  Varies with device  \n",
       "3711  Varies with device  \n",
       "3687  Varies with device  \n",
       "3665  Varies with device  "
      ]
     },
     "execution_count": 46,
     "metadata": {},
     "output_type": "execute_result"
    }
   ],
   "source": [
    "df_installs_app=df.sort_values('Installs')\n",
    "df_installs_app.tail(5)"
   ]
  },
  {
   "cell_type": "markdown",
   "id": "769490fe",
   "metadata": {
    "hidden": true
   },
   "source": [
    "- App có lượt tải cao chưa có được rating tốt và app có được rating tốt thì lượt tải có thể ít. App thỏa mãn được cả hai thì app đó chắc chắn tốt để xem xét sử dụng.\n",
    "- Các bước tìm ra app chỉnh sửa video để đề xuất người dùng:\n",
    "    - Lấy top 10 của lượt tải và phải có lượt đánh giá trên 4.2."
   ]
  },
  {
   "cell_type": "code",
   "execution_count": 47,
   "id": "ed9cdc1b",
   "metadata": {
    "hidden": true
   },
   "outputs": [
    {
     "data": {
      "text/plain": [
       "['DU Recorder – Screen Recorder, Video Editor, Live',\n",
       " 'Motorola FM Radio',\n",
       " 'Motorola Gallery',\n",
       " 'VLC for Android',\n",
       " 'VivaVideo - Video Editor & Photo Movie',\n",
       " 'Dubsmash',\n",
       " 'VideoShow-Video Editor, Video Maker, Beauty Camera',\n",
       " 'MX Player',\n",
       " 'Google Play Movies & TV',\n",
       " 'YouTube']"
      ]
     },
     "execution_count": 47,
     "metadata": {},
     "output_type": "execute_result"
    }
   ],
   "source": [
    "top_10_install_app=list(df_installs_app['App'].tail(10))\n",
    "top_10_install_app"
   ]
  },
  {
   "cell_type": "code",
   "execution_count": 48,
   "id": "4a1ebff1",
   "metadata": {
    "hidden": true
   },
   "outputs": [
    {
     "data": {
      "text/html": [
       "<div>\n",
       "<style scoped>\n",
       "    .dataframe tbody tr th:only-of-type {\n",
       "        vertical-align: middle;\n",
       "    }\n",
       "\n",
       "    .dataframe tbody tr th {\n",
       "        vertical-align: top;\n",
       "    }\n",
       "\n",
       "    .dataframe thead th {\n",
       "        text-align: right;\n",
       "    }\n",
       "</style>\n",
       "<table border=\"1\" class=\"dataframe\">\n",
       "  <thead>\n",
       "    <tr style=\"text-align: right;\">\n",
       "      <th></th>\n",
       "      <th>App</th>\n",
       "      <th>Category</th>\n",
       "      <th>Rating</th>\n",
       "      <th>Reviews</th>\n",
       "      <th>Size</th>\n",
       "      <th>Installs</th>\n",
       "      <th>Type</th>\n",
       "      <th>Price</th>\n",
       "      <th>Content Rating</th>\n",
       "      <th>Genres</th>\n",
       "      <th>Last Updated</th>\n",
       "      <th>Current Ver</th>\n",
       "      <th>Android Ver</th>\n",
       "    </tr>\n",
       "  </thead>\n",
       "  <tbody>\n",
       "    <tr>\n",
       "      <th>8537</th>\n",
       "      <td>Inst Download - Video &amp; Photo</td>\n",
       "      <td>VIDEO_PLAYERS</td>\n",
       "      <td>4.6</td>\n",
       "      <td>148715</td>\n",
       "      <td>3379.2</td>\n",
       "      <td>10000000</td>\n",
       "      <td>Free</td>\n",
       "      <td>0.0</td>\n",
       "      <td>Everyone</td>\n",
       "      <td>Video Players &amp; Editors</td>\n",
       "      <td>2017-12-20</td>\n",
       "      <td>2.0</td>\n",
       "      <td>4.0 and up</td>\n",
       "    </tr>\n",
       "    <tr>\n",
       "      <th>5735</th>\n",
       "      <td>AW Screen Recorder No Root</td>\n",
       "      <td>VIDEO_PLAYERS</td>\n",
       "      <td>4.3</td>\n",
       "      <td>1659</td>\n",
       "      <td>3788.8</td>\n",
       "      <td>100000</td>\n",
       "      <td>Free</td>\n",
       "      <td>0.0</td>\n",
       "      <td>Everyone</td>\n",
       "      <td>Video Players &amp; Editors</td>\n",
       "      <td>2017-07-06</td>\n",
       "      <td>1.1</td>\n",
       "      <td>5.0 and up</td>\n",
       "    </tr>\n",
       "    <tr>\n",
       "      <th>9787</th>\n",
       "      <td>ES Audio Player ( Shortcut )</td>\n",
       "      <td>VIDEO_PLAYERS</td>\n",
       "      <td>4.2</td>\n",
       "      <td>1236</td>\n",
       "      <td>33.0</td>\n",
       "      <td>100000</td>\n",
       "      <td>Free</td>\n",
       "      <td>0.0</td>\n",
       "      <td>Everyone</td>\n",
       "      <td>Video Players &amp; Editors</td>\n",
       "      <td>2013-07-17</td>\n",
       "      <td>1.1</td>\n",
       "      <td>2.2 and up</td>\n",
       "    </tr>\n",
       "    <tr>\n",
       "      <th>5626</th>\n",
       "      <td>Multiple Videos at Same Time</td>\n",
       "      <td>VIDEO_PLAYERS</td>\n",
       "      <td>4.4</td>\n",
       "      <td>4706</td>\n",
       "      <td>1536.0</td>\n",
       "      <td>1000000</td>\n",
       "      <td>Free</td>\n",
       "      <td>0.0</td>\n",
       "      <td>Everyone</td>\n",
       "      <td>Video Players &amp; Editors</td>\n",
       "      <td>2018-06-19</td>\n",
       "      <td>Z (Special Edition R9)</td>\n",
       "      <td>4.4 and up</td>\n",
       "    </tr>\n",
       "    <tr>\n",
       "      <th>3674</th>\n",
       "      <td>Video Player All Format for Android</td>\n",
       "      <td>VIDEO_PLAYERS</td>\n",
       "      <td>4.6</td>\n",
       "      <td>3930</td>\n",
       "      <td>3379.2</td>\n",
       "      <td>500000</td>\n",
       "      <td>Free</td>\n",
       "      <td>0.0</td>\n",
       "      <td>Everyone</td>\n",
       "      <td>Video Players &amp; Editors</td>\n",
       "      <td>2018-07-26</td>\n",
       "      <td>1.1.7</td>\n",
       "      <td>4.0.3 and up</td>\n",
       "    </tr>\n",
       "  </tbody>\n",
       "</table>\n",
       "</div>"
      ],
      "text/plain": [
       "                                      App       Category  Rating Reviews  \\\n",
       "8537        Inst Download - Video & Photo  VIDEO_PLAYERS     4.6  148715   \n",
       "5735           AW Screen Recorder No Root  VIDEO_PLAYERS     4.3    1659   \n",
       "9787         ES Audio Player ( Shortcut )  VIDEO_PLAYERS     4.2    1236   \n",
       "5626         Multiple Videos at Same Time  VIDEO_PLAYERS     4.4    4706   \n",
       "3674  Video Player All Format for Android  VIDEO_PLAYERS     4.6    3930   \n",
       "\n",
       "        Size  Installs  Type  Price Content Rating                   Genres  \\\n",
       "8537  3379.2  10000000  Free    0.0       Everyone  Video Players & Editors   \n",
       "5735  3788.8    100000  Free    0.0       Everyone  Video Players & Editors   \n",
       "9787    33.0    100000  Free    0.0       Everyone  Video Players & Editors   \n",
       "5626  1536.0   1000000  Free    0.0       Everyone  Video Players & Editors   \n",
       "3674  3379.2    500000  Free    0.0       Everyone  Video Players & Editors   \n",
       "\n",
       "     Last Updated             Current Ver   Android Ver  \n",
       "8537   2017-12-20                     2.0    4.0 and up  \n",
       "5735   2017-07-06                     1.1    5.0 and up  \n",
       "9787   2013-07-17                     1.1    2.2 and up  \n",
       "5626   2018-06-19  Z (Special Edition R9)    4.4 and up  \n",
       "3674   2018-07-26                   1.1.7  4.0.3 and up  "
      ]
     },
     "execution_count": 48,
     "metadata": {},
     "output_type": "execute_result"
    }
   ],
   "source": [
    "df_rating_app=df[df.Rating >=4.2]\n",
    "df_rating_app.sample(5)"
   ]
  },
  {
   "cell_type": "code",
   "execution_count": 49,
   "id": "8220c2b6",
   "metadata": {
    "hidden": true,
    "scrolled": true
   },
   "outputs": [
    {
     "data": {
      "text/plain": [
       "{'AB Repeat Player',\n",
       " 'AW Screen Recorder No Root',\n",
       " 'AZ Screen Recorder - No Root',\n",
       " 'ActionDirector Video Editor - Edit Videos Fast',\n",
       " 'All Video Downloader 2018',\n",
       " 'AndStream - Streaming Download',\n",
       " 'BSPlayer ARMv7 VFP CPU support',\n",
       " 'BSPlayer FREE',\n",
       " 'BitTorrent®- Torrent Downloads',\n",
       " 'CJ VLC HD Remote (+ Stream)',\n",
       " 'Code',\n",
       " 'DU Privacy-hide apps、sms、file',\n",
       " 'DU Recorder – Screen Recorder, Video Editor, Live',\n",
       " 'Dubsmash',\n",
       " 'ES Audio Player ( Shortcut )',\n",
       " 'Ez Screen Recorder (no ad)',\n",
       " 'FilmoraGo - Free Video Editor',\n",
       " 'Funny videos for whatsapp',\n",
       " 'HD Movie Video Player',\n",
       " 'HD Video Download for Facebook',\n",
       " 'HD Video Player',\n",
       " 'HTC Service—Video Player',\n",
       " 'Inst Download - Video & Photo',\n",
       " 'KineMaster – Pro Video Editor',\n",
       " 'LIKE – Magic Video Maker & Community',\n",
       " 'MX Player',\n",
       " 'Magisto Video Editor & Maker',\n",
       " 'MiniMovie - Free Video and Slideshow Editor',\n",
       " 'Mobizen Screen Recorder for LG - Record, Capture',\n",
       " 'Mobizen Screen Recorder for SAMSUNG',\n",
       " 'Multiple Videos at Same Time',\n",
       " 'Music - Mp3 Player',\n",
       " 'Nero AirBurn',\n",
       " 'Omlet Arcade - Stream, Meet, Play',\n",
       " 'Play Tube',\n",
       " 'PowerDirector Video Editor App: 4K, Slow Mo & More',\n",
       " 'Quik – Free Video Editor for photos, clips, music',\n",
       " 'Ringdroid',\n",
       " 'Samsung Video Library',\n",
       " 'VLC for Android',\n",
       " 'VMate',\n",
       " 'VUE: video editor & camcorder',\n",
       " 'VidPlay',\n",
       " 'Video Downloader',\n",
       " 'Video Downloader - for Instagram Repost App',\n",
       " 'Video Downloader for FB : Video Download with Link',\n",
       " 'Video Editor,Crop Video,Movie Video,Music,Effects',\n",
       " 'Video Player All Format',\n",
       " 'Video Player All Format for Android',\n",
       " 'Video Status',\n",
       " 'Video.Guru - Video Maker',\n",
       " 'VideoShow-Video Editor, Video Maker, Beauty Camera',\n",
       " 'Vigo Video',\n",
       " 'VivaVideo - Video Editor & Photo Movie',\n",
       " 'Vote for',\n",
       " 'YouCut - Video Editor & Video Maker, No Watermark',\n",
       " 'YouTube',\n",
       " 'YouTube Studio',\n",
       " 'amazer - Global Kpop Video Community',\n",
       " 'iMediaShare – Photos & Music',\n",
       " 'iPlayIT for YouTube VR Player',\n",
       " 'video player',\n",
       " 'video player for android'}"
      ]
     },
     "execution_count": 49,
     "metadata": {},
     "output_type": "execute_result"
    }
   ],
   "source": [
    "top_rating_app=set(df_rating_app['App'])\n",
    "top_rating_app"
   ]
  },
  {
   "cell_type": "markdown",
   "id": "6e0c7412",
   "metadata": {
    "hidden": true
   },
   "source": [
    "Vậy bây giờ chỉ cần lấy tập chung của hai tập ở trên là ta có được áp vừa install cao và vừa được mọi người đánh giá tốt ( lượt rating từ 4.2). Sau quá trình ta có được 7 app để xem xét cài đặt. "
   ]
  },
  {
   "cell_type": "code",
   "execution_count": 50,
   "id": "ec1ef8ed",
   "metadata": {
    "hidden": true,
    "scrolled": false
   },
   "outputs": [
    {
     "data": {
      "text/plain": [
       "{'DU Recorder – Screen Recorder, Video Editor, Live',\n",
       " 'Dubsmash',\n",
       " 'MX Player',\n",
       " 'VLC for Android',\n",
       " 'VideoShow-Video Editor, Video Maker, Beauty Camera',\n",
       " 'VivaVideo - Video Editor & Photo Movie',\n",
       " 'YouTube'}"
      ]
     },
     "execution_count": 50,
     "metadata": {},
     "output_type": "execute_result"
    }
   ],
   "source": [
    "rs=top_rating_app.intersection(top_10_install_app)\n",
    "rs"
   ]
  },
  {
   "cell_type": "markdown",
   "id": "930fcbf8",
   "metadata": {
    "hidden": true
   },
   "source": [
    "Kết quả ở trên có nhiều ứng dụng lạ nhưng mình chắc youtube không phải phần mền chỉnh sửa video. Do việc phân loại ứng dụng chưa được tốt. Và mình nghĩ nên tách ra hai phần là video player và một thể loại khác là video editor. Chất lượng dữ liệu này chưa được tốt lắm."
   ]
  },
  {
   "cell_type": "markdown",
   "id": "21376819",
   "metadata": {
    "hidden": true
   },
   "source": [
    "__Ý nghĩa khi trả lời được câu hỏi này__: Ta có thể để xuất ra các ứng dụng được đánh giá cao và có đã nhiều người sử dụng cho từng nhu cầu cụ thể. Như ở đây là nhu cầu chỉnh sửa video."
   ]
  },
  {
   "cell_type": "markdown",
   "id": "9cfb4b9f",
   "metadata": {},
   "source": [
    "# VI. Nhìn lại quá trình làm đồ án"
   ]
  },
  {
   "cell_type": "markdown",
   "id": "4d91087c",
   "metadata": {},
   "source": [
    "## 1. Thống A Thảo "
   ]
  },
  {
   "cell_type": "markdown",
   "id": "c001ca3c",
   "metadata": {},
   "source": [
    "__Quá trình tìm dữ liệu:__\n",
    "> Nhóm phải mất hơn 10 ngày mới quyết định được dữ liệu sẽ chọn để làm\n",
    " >- Vì như dữ liệu đó đọc mô tả cảm thấy hay nhưng khi xem thì các cột, dòng dữ liệu bị thiếu nhiều.\n",
    " >- Một số dữ liệu đã làm trong lab rồi nên cảm thấy không thích làm nó nữa.\n",
    " >- Các thuộc tính có trong dữ liệu nhiều, khó hiểu và tốn nhiều thời gian để hiểu.\n",
    " >- Dữ liệu quá ít thuộc tính, không có gì rút ra được.\n",
    " \n",
    "__Quá trình đưa ra câu hỏi:__\n",
    ">Quá trình này không mất nhiều thời gian vì trong lúc chọn dữ liệu đã đưa ra một số câu hỏi có thể trả lời được.\n",
    "\n",
    "__Quá trình phân tích đưa ra câu trả lời:__\n",
    ">Quá trình này không tốn nhiều thời gian chỉ khoảng 5-6h. Trong lúc trả lời câu hỏi mới nhận ra cách làm sai, dữ liệu không đủ để trả lời và suy nghĩ quá nhiều. Như mình định làm tính số lượng app được đưa lên trong năm 2018 và 2017. Thì dữ liệu chỉ cho thời cập nhật lần cuối. Nó không có nghĩa là app được lần đầu đưa lên chợ ứng dụng vào khoảng thời gian đó. Nhưng mình vẫn chưa từ bỏ. Vì dữ liệu được thu thập là khoảng năm 2019 do đó các ứng dụng lần cuối cập nhật là năm 2017, có vẻ người phát hành đã từ bỏ ứng dụng đó chuyển sang dự án mới. Và mình lại mong muốn tính được sự tăng giảm của mỗi thể loại. Để tìm xem xu hướng năm 2018 có khác so với năm 2017 không? Và cuối cùng mình không làm. Chọn câu đơn giản dễ làm.\n",
    "\n",
    "_Các vấn đề khác:_\n",
    ">Github: github không còn hỗ trợ việc nhập username, password. Do vậy mình một thời khác nào đó, mình tạo được mã gpa. Sau khi mã hết hạn, mình tìm hiểu sang sử dụng ssh-key, phát sinh vấn đề là lúc đầu mình tạo được một cái mã, khi yêu cầu push lên thì git cần nhập user name và password, dán mã đó vào phần password vậy là kết nối thành công đến git. Nhưng khi tạo ssh-key thì mã private ở trong máy, được tự động decsript chứ không phải mình nhập mã private key."
   ]
  },
  {
   "cell_type": "markdown",
   "id": "c1de147a",
   "metadata": {},
   "source": [
    "## 2. Nguyễn Phát Minh "
   ]
  },
  {
   "cell_type": "markdown",
   "id": "14db5077",
   "metadata": {},
   "source": [
    "__Đã gặp khó khăn gì:__"
   ]
  },
  {
   "cell_type": "markdown",
   "id": "5ae49b9b",
   "metadata": {},
   "source": [
    "- Việc tìm dữ liệu khá là khó khăn vì đa số tính cân bằng giữ các cột dạng category và dạng numeric không cân bằng, một số dữ liệu thì chỉ đầy số liệu đã được thống kê sẵn, một số thì ghi quá nhiều dữ liệu dạng category nhưng không có giá trị gì cho việc phân tích câu hỏi.\n",
    "- Mới đầu khi tiếp xúc bộ data này tưởng dễ nhưng sau khi tiếp xúc thì gặp khá nhiều vấn đề như có 1 dòng bị thụt lùi, các app cùng tên nhưng chỉ khác mỗi phần review, ...\n",
    "- Chỉ dựa vào tên cột dữ liệu để đánh giá khả năng đưa ra câu hỏi thì em thấy em ngu rồi :)).\n",
    "- Các cột kiểu 'Update' nhìn tưởng là có giá trị nhưng sau khi khám phá mới thấy mấy cột này khá vô dụng. Cột __'Content Rating'__ có nhiều tiềm năng để trả lời câu hỏi và lúc đầu câu hỏi 1 em định làm tìm các genres phổ biến theo độ tuổi nhưng các dữ liệu trong cột lại không nói lên được gì nhiều ('Everyone', 'Mature 17+', 'Everyone 10+', 'Teen', 'Unrated','Adults only 18+') thay vì thống kê kiểu theo độ tuổi như ('1 - 5', '5 - 13', '13 - 18',...) nên em đành bỏ câu hỏi kiểu này."
   ]
  },
  {
   "cell_type": "markdown",
   "id": "1d237b96",
   "metadata": {},
   "source": [
    "__Có học được gì hữu ích?__"
   ]
  },
  {
   "cell_type": "markdown",
   "id": "da1b8ca4",
   "metadata": {},
   "source": [
    "- Việc thu thập một bộ data tốt là cực cực cực kì quan trọng trong việc tạo ra câu hỏi có nhiều ý nghĩa và đồng thời cũng giúp phần tiền xử lí nhanh hơn"
   ]
  },
  {
   "cell_type": "markdown",
   "id": "56f91cde",
   "metadata": {},
   "source": [
    "##  Nếu có thêm thời gian thì sẽ làm gì?"
   ]
  },
  {
   "cell_type": "markdown",
   "id": "9eb2a4d4",
   "metadata": {},
   "source": [
    "- Có thể là sẽ bàn bạc ra một cách tốt hơn để thay thế các giá trị __'Varies with device'__ hoặc là thay thế luôn các giá trị trong __'Content Rating'__\n",
    "- Thật ra còn một file chứa các review về app nữa trong trang nhưng việc phân tích cách xử lí các review cũng khá là căng vì dữ liệu gần như toàn là string"
   ]
  },
  {
   "cell_type": "markdown",
   "id": "53333940",
   "metadata": {},
   "source": [
    "# VII. Tài liệu tham khảo"
   ]
  },
  {
   "cell_type": "markdown",
   "id": "8f63023e",
   "metadata": {},
   "source": [
    "- Python [w3schools](https://www.w3schools.com/python/), [python's document](https://docs.python.org/3/)\n",
    "- Pandas [pandas's document](https://pandas.pydata.org/docs/)\n",
    "- Numpy [numpy's document](https://numpy.org/doc/)\n",
    "- Lab02 và lab03 của môn học."
   ]
  }
 ],
 "metadata": {
  "kernelspec": {
   "display_name": "Python 3",
   "language": "python",
   "name": "python3"
  },
  "language_info": {
   "codemirror_mode": {
    "name": "ipython",
    "version": 3
   },
   "file_extension": ".py",
   "mimetype": "text/x-python",
   "name": "python",
   "nbconvert_exporter": "python",
   "pygments_lexer": "ipython3",
   "version": "3.8.8"
  },
  "latex_envs": {
   "LaTeX_envs_menu_present": true,
   "autoclose": false,
   "autocomplete": true,
   "bibliofile": "biblio.bib",
   "cite_by": "apalike",
   "current_citInitial": 1,
   "eqLabelWithNumbers": true,
   "eqNumInitial": 1,
   "hotkeys": {
    "equation": "Ctrl-E",
    "itemize": "Ctrl-I"
   },
   "labels_anchors": false,
   "latex_user_defs": false,
   "report_style_numbering": false,
   "user_envs_cfg": false
  }
 },
 "nbformat": 4,
 "nbformat_minor": 5
}
